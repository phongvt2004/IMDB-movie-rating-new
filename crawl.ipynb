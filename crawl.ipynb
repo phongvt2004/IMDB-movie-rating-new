{
 "cells": [
  {
   "cell_type": "code",
   "execution_count": 1,
   "id": "5deec89d-f9dd-46a1-94de-3917f39c547f",
   "metadata": {},
   "outputs": [],
   "source": [
    "from bs4 import BeautifulSoup\n",
    "import pandas as pd\n",
    "from selenium import webdriver"
   ]
  },
  {
   "cell_type": "code",
   "execution_count": 2,
   "id": "82592259-8ce0-4c24-b712-03ff9a8ac007",
   "metadata": {},
   "outputs": [],
   "source": [
    "ROOT_URL = 'https://www.shu.ac.uk/about-us/our-people/staff-profiles'"
   ]
  },
  {
   "cell_type": "code",
   "execution_count": 3,
   "id": "d07dfc30-0591-4aae-b04a-75cecbd2db4a",
   "metadata": {},
   "outputs": [],
   "source": [
    "opts = webdriver.ChromeOptions()\n",
    "opts.headless = True\n",
    "browser = webdriver.Chrome(options=opts)"
   ]
  },
  {
   "cell_type": "code",
   "execution_count": null,
   "id": "7ff31ed7-5f92-4fbc-8a38-f059fa42c80a",
   "metadata": {},
   "outputs": [],
   "source": [
    "browser.get(ROOT_URL)\n",
    "html_text = browser.page_source"
   ]
  },
  {
   "cell_type": "code",
   "execution_count": null,
   "id": "9d1349bf-a9d3-4467-b201-e5ad6c7e3479",
   "metadata": {},
   "outputs": [],
   "source": []
  }
 ],
 "metadata": {
  "kernelspec": {
   "display_name": "Python 3 (ipykernel)",
   "language": "python",
   "name": "python3"
  },
  "language_info": {
   "codemirror_mode": {
    "name": "ipython",
    "version": 3
   },
   "file_extension": ".py",
   "mimetype": "text/x-python",
   "name": "python",
   "nbconvert_exporter": "python",
   "pygments_lexer": "ipython3",
   "version": "3.11.7"
  }
 },
 "nbformat": 4,
 "nbformat_minor": 5
}
