{
 "cells": [
  {
   "cell_type": "code",
   "execution_count": 1,
   "id": "0f9dc6c4-6f76-4e9b-afeb-db5a0945294e",
   "metadata": {
    "execution": {
     "iopub.execute_input": "2024-12-30T15:34:55.400185Z",
     "iopub.status.busy": "2024-12-30T15:34:55.399836Z",
     "iopub.status.idle": "2024-12-30T15:34:59.668409Z",
     "shell.execute_reply": "2024-12-30T15:34:59.667579Z",
     "shell.execute_reply.started": "2024-12-30T15:34:55.400145Z"
    }
   },
   "outputs": [
    {
     "name": "stdout",
     "output_type": "stream",
     "text": [
      "Requirement already satisfied: catboost in d:\\python\\columbina\\lib\\site-packages (1.2.7)\n",
      "Requirement already satisfied: xgboost in d:\\python\\columbina\\lib\\site-packages (2.1.3)\n",
      "Requirement already satisfied: graphviz in d:\\python\\columbina\\lib\\site-packages (from catboost) (0.20.3)\n",
      "Requirement already satisfied: matplotlib in d:\\python\\columbina\\lib\\site-packages (from catboost) (3.9.2)\n",
      "Requirement already satisfied: numpy<2.0,>=1.16.0 in d:\\python\\columbina\\lib\\site-packages (from catboost) (1.26.4)\n",
      "Requirement already satisfied: pandas>=0.24 in d:\\python\\columbina\\lib\\site-packages (from catboost) (2.2.3)\n",
      "Requirement already satisfied: scipy in d:\\python\\columbina\\lib\\site-packages (from catboost) (1.14.1)\n",
      "Requirement already satisfied: plotly in d:\\python\\columbina\\lib\\site-packages (from catboost) (5.24.1)\n",
      "Requirement already satisfied: six in d:\\python\\columbina\\lib\\site-packages (from catboost) (1.16.0)\n",
      "Requirement already satisfied: python-dateutil>=2.8.2 in d:\\python\\columbina\\lib\\site-packages (from pandas>=0.24->catboost) (2.9.0.post0)\n",
      "Requirement already satisfied: pytz>=2020.1 in d:\\python\\columbina\\lib\\site-packages (from pandas>=0.24->catboost) (2024.2)\n",
      "Requirement already satisfied: tzdata>=2022.7 in d:\\python\\columbina\\lib\\site-packages (from pandas>=0.24->catboost) (2024.2)\n",
      "Requirement already satisfied: contourpy>=1.0.1 in d:\\python\\columbina\\lib\\site-packages (from matplotlib->catboost) (1.3.0)\n",
      "Requirement already satisfied: cycler>=0.10 in d:\\python\\columbina\\lib\\site-packages (from matplotlib->catboost) (0.12.1)\n",
      "Requirement already satisfied: fonttools>=4.22.0 in d:\\python\\columbina\\lib\\site-packages (from matplotlib->catboost) (4.54.1)\n",
      "Requirement already satisfied: kiwisolver>=1.3.1 in d:\\python\\columbina\\lib\\site-packages (from matplotlib->catboost) (1.4.7)\n",
      "Requirement already satisfied: packaging>=20.0 in d:\\python\\columbina\\lib\\site-packages (from matplotlib->catboost) (24.1)\n",
      "Requirement already satisfied: pillow>=8 in d:\\python\\columbina\\lib\\site-packages (from matplotlib->catboost) (10.4.0)\n",
      "Requirement already satisfied: pyparsing>=2.3.1 in d:\\python\\columbina\\lib\\site-packages (from matplotlib->catboost) (3.1.4)\n",
      "Requirement already satisfied: tenacity>=6.2.0 in d:\\python\\columbina\\lib\\site-packages (from plotly->catboost) (9.0.0)\n"
     ]
    }
   ],
   "source": [
    "!pip install catboost xgboost"
   ]
  },
  {
   "cell_type": "code",
   "execution_count": 3,
   "id": "cfe71c48-50a1-4106-8d01-b6762db38c90",
   "metadata": {
    "execution": {
     "iopub.execute_input": "2024-12-30T15:34:59.669714Z",
     "iopub.status.busy": "2024-12-30T15:34:59.669486Z",
     "iopub.status.idle": "2024-12-30T15:35:00.418936Z",
     "shell.execute_reply": "2024-12-30T15:35:00.418050Z",
     "shell.execute_reply.started": "2024-12-30T15:34:59.669689Z"
    }
   },
   "outputs": [],
   "source": [
    "import pandas as pd\n",
    "from sklearn.model_selection import train_test_split"
   ]
  },
  {
   "cell_type": "code",
   "execution_count": 4,
   "id": "451151ea-ed7a-4152-b0d2-daf3429cce8a",
   "metadata": {
    "execution": {
     "iopub.execute_input": "2024-12-30T15:35:00.421069Z",
     "iopub.status.busy": "2024-12-30T15:35:00.420705Z",
     "iopub.status.idle": "2024-12-30T15:35:00.686824Z",
     "shell.execute_reply": "2024-12-30T15:35:00.686167Z",
     "shell.execute_reply.started": "2024-12-30T15:35:00.421047Z"
    }
   },
   "outputs": [],
   "source": [
    "data_df = pd.read_csv(\"data_selected.csv\")\n",
    "X = data_df.drop('Rating', axis=1)\n",
    "Y = data_df['Rating']\n",
    "X_train, X_test, y_train, y_test = train_test_split(X, Y, test_size=0.3, random_state=42)"
   ]
  },
  {
   "cell_type": "code",
   "execution_count": 5,
   "id": "e8b47ffc-a325-4ff4-aa4a-f9500b6f9691",
   "metadata": {
    "execution": {
     "iopub.execute_input": "2024-12-30T15:35:00.688262Z",
     "iopub.status.busy": "2024-12-30T15:35:00.688041Z",
     "iopub.status.idle": "2024-12-30T15:35:00.693384Z",
     "shell.execute_reply": "2024-12-30T15:35:00.692693Z",
     "shell.execute_reply.started": "2024-12-30T15:35:00.688244Z"
    }
   },
   "outputs": [
    {
     "name": "stdout",
     "output_type": "stream",
     "text": [
      "Training shape (X, Y): (17718, 16) (17718,)\n",
      "Test shape (X, Y): (7594, 16) (7594,)\n"
     ]
    }
   ],
   "source": [
    "print(\"Training shape (X, Y):\", X_train.shape, y_train.shape)\n",
    "# print(\"Validation shape (X, Y):\", X_val.shape, y_val.shape)\n",
    "print(\"Test shape (X, Y):\", X_test.shape, y_test.shape)"
   ]
  },
  {
   "cell_type": "code",
   "execution_count": 6,
   "id": "73639874-6288-494c-8b11-de9409d1faae",
   "metadata": {
    "execution": {
     "iopub.execute_input": "2024-12-30T15:35:00.694427Z",
     "iopub.status.busy": "2024-12-30T15:35:00.694194Z",
     "iopub.status.idle": "2024-12-30T15:35:00.706609Z",
     "shell.execute_reply": "2024-12-30T15:35:00.705809Z",
     "shell.execute_reply.started": "2024-12-30T15:35:00.694409Z"
    }
   },
   "outputs": [],
   "source": [
    "def get_accuracy_details(model, X,y):\n",
    "    \"\"\"\n",
    "    Calculates and prints accuracy details for a given model using provided features and target data.\n",
    "\n",
    "    Args:\n",
    "        model: A trained machine learning model with `predict` and `score` methods.\n",
    "        X: Features data used for making predictions.\n",
    "        y: True target values corresponding to the features.\n",
    "\n",
    "    Prints:\n",
    "        Validation R² score: Coefficient of determination of the prediction.\n",
    "        Validation Mean Squared Error: Mean of the squared differences between predicted and true values.\n",
    "        Validation Mean Absolute Error: Mean of the absolute differences between predicted and true values.\n",
    "    \"\"\"\n",
    "\n",
    "    y_pred = model.predict(X)\n",
    "\n",
    "    # Calculate R² score\n",
    "    r2_score = model.score(X, y)\n",
    "\n",
    "    from sklearn.metrics import mean_squared_error, mean_absolute_error\n",
    "    val_mse = mean_squared_error(y, y_pred)\n",
    "    val_mae = mean_absolute_error(y, y_pred)\n",
    "\n",
    "    print(f\"Validation R² score: {r2_score}\")\n",
    "    print(f\"Validation Mean Squared Error: {val_mse}\")\n",
    "    print(f\"Validation Mean Absolute Error: {val_mae}\")"
   ]
  },
  {
   "cell_type": "code",
   "execution_count": 7,
   "id": "2dcba216-87ae-4da2-a3c0-5d2755328757",
   "metadata": {
    "execution": {
     "iopub.execute_input": "2024-12-30T15:35:00.707767Z",
     "iopub.status.busy": "2024-12-30T15:35:00.707454Z",
     "iopub.status.idle": "2024-12-30T15:35:00.720962Z",
     "shell.execute_reply": "2024-12-30T15:35:00.720261Z",
     "shell.execute_reply.started": "2024-12-30T15:35:00.707731Z"
    }
   },
   "outputs": [],
   "source": [
    "from sklearn.model_selection import GridSearchCV"
   ]
  },
  {
   "cell_type": "code",
   "execution_count": 8,
   "id": "f2591e62-a551-41b0-a89d-93271b385be7",
   "metadata": {
    "execution": {
     "iopub.execute_input": "2024-12-30T15:35:00.721893Z",
     "iopub.status.busy": "2024-12-30T15:35:00.721671Z",
     "iopub.status.idle": "2024-12-30T15:56:34.198325Z",
     "shell.execute_reply": "2024-12-30T15:56:34.197200Z",
     "shell.execute_reply.started": "2024-12-30T15:35:00.721875Z"
    }
   },
   "outputs": [
    {
     "name": "stdout",
     "output_type": "stream",
     "text": [
      "Random Forest - Best Parameters: {'max_depth': 15, 'n_estimators': 800}\n",
      "Validation R² score: 0.7786886336207179\n",
      "Validation Mean Squared Error: 0.2919767093812067\n",
      "Validation Mean Absolute Error: 0.3825317247577738\n"
     ]
    }
   ],
   "source": [
    "from sklearn.ensemble import RandomForestRegressor\n",
    "\n",
    "def train_random_forest(X_train, y_train):\n",
    "    param_grid = {\n",
    "        'n_estimators': [500, 800],\n",
    "        'max_depth': [10, 15],\n",
    "    }\n",
    "    rf_regressor = RandomForestRegressor(random_state=42)\n",
    "    grid_search = GridSearchCV(rf_regressor, param_grid, cv=5, scoring='r2', n_jobs=-1)\n",
    "    grid_search.fit(X_train, y_train)\n",
    "    best_params = grid_search.best_params_\n",
    "    best_rf_model = grid_search.best_estimator_\n",
    "\n",
    "    return best_rf_model, best_params\n",
    "\n",
    "best_rf_model, best_params_rf = train_random_forest(X_train, y_train)\n",
    "print(f\"Random Forest - Best Parameters: {best_params_rf}\")\n",
    "get_accuracy_details(best_rf_model, X_test, y_test)"
   ]
  },
  {
   "cell_type": "code",
   "execution_count": 9,
   "id": "497c394f-5c48-4542-b6fa-5bba8e7fedbf",
   "metadata": {
    "execution": {
     "iopub.execute_input": "2024-12-30T16:05:41.148292Z",
     "iopub.status.busy": "2024-12-30T16:05:41.147875Z",
     "iopub.status.idle": "2024-12-30T16:09:12.113823Z",
     "shell.execute_reply": "2024-12-30T16:09:12.111381Z",
     "shell.execute_reply.started": "2024-12-30T16:05:41.148259Z"
    }
   },
   "outputs": [
    {
     "name": "stdout",
     "output_type": "stream",
     "text": [
      "MLP - Best Parameters: {'activation': 'relu', 'alpha': 0.001, 'hidden_layer_sizes': (64, 64), 'learning_rate_init': 0.1, 'solver': 'adam'}\n",
      "MLP Model Performance on Test Set:\n",
      "Validation R² score: -332139953.77383536\n",
      "Validation Mean Squared Error: 438193178.39594567\n",
      "Validation Mean Absolute Error: 3930.9658100534716\n"
     ]
    }
   ],
   "source": [
    "from sklearn.neural_network import MLPRegressor\n",
    "\n",
    "def train_mlp(X_train, y_train):\n",
    "    param_grid = {\n",
    "        'hidden_layer_sizes': [(64, 64), (64, 128, 64)],\n",
    "        'activation': ['relu'],\n",
    "        'solver': ['adam'],\n",
    "        'alpha': [0.001, 0.01],\n",
    "        'learning_rate_init': [0.01, 0.1]\n",
    "    }\n",
    "    mlp_regressor = MLPRegressor(random_state=42, max_iter=200, early_stopping=True, batch_size=1024)\n",
    "    grid_search = GridSearchCV(mlp_regressor, param_grid, cv=5, scoring='r2', n_jobs=-1)\n",
    "    grid_search.fit(X_train, y_train)\n",
    "    best_params = grid_search.best_params_\n",
    "    best_mlp_model = grid_search.best_estimator_\n",
    "\n",
    "    return best_mlp_model, best_params\n",
    "\n",
    "best_mlp_model, best_params_mlp = train_mlp(X_train, y_train)\n",
    "print(f\"MLP - Best Parameters: {best_params_mlp}\")\n",
    "\n",
    "print(\"MLP Model Performance on Test Set:\")\n",
    "get_accuracy_details(best_mlp_model, X_test, y_test)"
   ]
  },
  {
   "cell_type": "code",
   "execution_count": 10,
   "id": "29a974d8",
   "metadata": {},
   "outputs": [
    {
     "name": "stdout",
     "output_type": "stream",
     "text": [
      "nvcc: NVIDIA (R) Cuda compiler driver\n",
      "Copyright (c) 2005-2024 NVIDIA Corporation\n",
      "Built on Wed_Oct_30_01:18:48_Pacific_Daylight_Time_2024\n",
      "Cuda compilation tools, release 12.6, V12.6.85\n",
      "Build cuda_12.6.r12.6/compiler.35059454_0\n"
     ]
    }
   ],
   "source": [
    "!nvcc --version"
   ]
  },
  {
   "cell_type": "code",
   "execution_count": 16,
   "id": "8f623b64-c335-4b6f-8583-5b638836029a",
   "metadata": {
    "execution": {
     "iopub.execute_input": "2024-12-30T16:09:12.117442Z",
     "iopub.status.busy": "2024-12-30T16:09:12.117061Z",
     "iopub.status.idle": "2024-12-30T16:14:38.397195Z",
     "shell.execute_reply": "2024-12-30T16:14:38.396137Z",
     "shell.execute_reply.started": "2024-12-30T16:09:12.117394Z"
    }
   },
   "outputs": [
    {
     "name": "stderr",
     "output_type": "stream",
     "text": [
      "d:\\Python\\Columbina\\Lib\\site-packages\\sklearn\\utils\\_tags.py:354: FutureWarning: The XGBRegressor or classes from which it inherits use `_get_tags` and `_more_tags`. Please define the `__sklearn_tags__` method, or inherit from `sklearn.base.BaseEstimator` and/or other appropriate mixins such as `sklearn.base.TransformerMixin`, `sklearn.base.ClassifierMixin`, `sklearn.base.RegressorMixin`, and `sklearn.base.OutlierMixin`. From scikit-learn 1.7, not defining `__sklearn_tags__` will raise an error.\n",
      "  warnings.warn(\n"
     ]
    },
    {
     "ename": "AttributeError",
     "evalue": "'super' object has no attribute '__sklearn_tags__'",
     "output_type": "error",
     "traceback": [
      "\u001b[1;31m---------------------------------------------------------------------------\u001b[0m",
      "\u001b[1;31mAttributeError\u001b[0m                            Traceback (most recent call last)",
      "Cell \u001b[1;32mIn[16], line 17\u001b[0m\n\u001b[0;32m     13\u001b[0m     best_xgb_model \u001b[38;5;241m=\u001b[39m grid_search\u001b[38;5;241m.\u001b[39mbest_estimator_\n\u001b[0;32m     15\u001b[0m     \u001b[38;5;28;01mreturn\u001b[39;00m best_xgb_model, best_params\n\u001b[1;32m---> 17\u001b[0m best_xgb_model, best_params_xgb \u001b[38;5;241m=\u001b[39m \u001b[43mtrain_xgboost\u001b[49m\u001b[43m(\u001b[49m\u001b[43mX_train\u001b[49m\u001b[43m,\u001b[49m\u001b[43m \u001b[49m\u001b[43my_train\u001b[49m\u001b[43m)\u001b[49m\n\u001b[0;32m     18\u001b[0m \u001b[38;5;28mprint\u001b[39m(\u001b[38;5;124mf\u001b[39m\u001b[38;5;124m\"\u001b[39m\u001b[38;5;124mXGBoost - Best Parameters: \u001b[39m\u001b[38;5;132;01m{\u001b[39;00mbest_params_xgb\u001b[38;5;132;01m}\u001b[39;00m\u001b[38;5;124m\"\u001b[39m)\n\u001b[0;32m     20\u001b[0m \u001b[38;5;28mprint\u001b[39m(\u001b[38;5;124m\"\u001b[39m\u001b[38;5;124mXGBoost Model Performance on Test Set:\u001b[39m\u001b[38;5;124m\"\u001b[39m)\n",
      "Cell \u001b[1;32mIn[16], line 11\u001b[0m, in \u001b[0;36mtrain_xgboost\u001b[1;34m(X_train, y_train)\u001b[0m\n\u001b[0;32m      9\u001b[0m xgb_regressor \u001b[38;5;241m=\u001b[39m xgb\u001b[38;5;241m.\u001b[39mXGBRegressor(device\u001b[38;5;241m=\u001b[39m\u001b[38;5;124m\"\u001b[39m\u001b[38;5;124mcuda\u001b[39m\u001b[38;5;124m\"\u001b[39m, random_state\u001b[38;5;241m=\u001b[39m\u001b[38;5;241m42\u001b[39m, objective\u001b[38;5;241m=\u001b[39m\u001b[38;5;124m'\u001b[39m\u001b[38;5;124mreg:squarederror\u001b[39m\u001b[38;5;124m'\u001b[39m)\n\u001b[0;32m     10\u001b[0m grid_search \u001b[38;5;241m=\u001b[39m GridSearchCV(xgb_regressor, param_grid, cv\u001b[38;5;241m=\u001b[39m\u001b[38;5;241m5\u001b[39m, scoring\u001b[38;5;241m=\u001b[39m\u001b[38;5;124m'\u001b[39m\u001b[38;5;124mr2\u001b[39m\u001b[38;5;124m'\u001b[39m, n_jobs\u001b[38;5;241m=\u001b[39m\u001b[38;5;241m-\u001b[39m\u001b[38;5;241m1\u001b[39m)\n\u001b[1;32m---> 11\u001b[0m \u001b[43mgrid_search\u001b[49m\u001b[38;5;241;43m.\u001b[39;49m\u001b[43mfit\u001b[49m\u001b[43m(\u001b[49m\u001b[43mX_train\u001b[49m\u001b[43m,\u001b[49m\u001b[43m \u001b[49m\u001b[43my_train\u001b[49m\u001b[43m)\u001b[49m\n\u001b[0;32m     12\u001b[0m best_params \u001b[38;5;241m=\u001b[39m grid_search\u001b[38;5;241m.\u001b[39mbest_params_\n\u001b[0;32m     13\u001b[0m best_xgb_model \u001b[38;5;241m=\u001b[39m grid_search\u001b[38;5;241m.\u001b[39mbest_estimator_\n",
      "File \u001b[1;32md:\\Python\\Columbina\\Lib\\site-packages\\sklearn\\base.py:1389\u001b[0m, in \u001b[0;36m_fit_context.<locals>.decorator.<locals>.wrapper\u001b[1;34m(estimator, *args, **kwargs)\u001b[0m\n\u001b[0;32m   1382\u001b[0m     estimator\u001b[38;5;241m.\u001b[39m_validate_params()\n\u001b[0;32m   1384\u001b[0m \u001b[38;5;28;01mwith\u001b[39;00m config_context(\n\u001b[0;32m   1385\u001b[0m     skip_parameter_validation\u001b[38;5;241m=\u001b[39m(\n\u001b[0;32m   1386\u001b[0m         prefer_skip_nested_validation \u001b[38;5;129;01mor\u001b[39;00m global_skip_validation\n\u001b[0;32m   1387\u001b[0m     )\n\u001b[0;32m   1388\u001b[0m ):\n\u001b[1;32m-> 1389\u001b[0m     \u001b[38;5;28;01mreturn\u001b[39;00m \u001b[43mfit_method\u001b[49m\u001b[43m(\u001b[49m\u001b[43mestimator\u001b[49m\u001b[43m,\u001b[49m\u001b[43m \u001b[49m\u001b[38;5;241;43m*\u001b[39;49m\u001b[43margs\u001b[49m\u001b[43m,\u001b[49m\u001b[43m \u001b[49m\u001b[38;5;241;43m*\u001b[39;49m\u001b[38;5;241;43m*\u001b[39;49m\u001b[43mkwargs\u001b[49m\u001b[43m)\u001b[49m\n",
      "File \u001b[1;32md:\\Python\\Columbina\\Lib\\site-packages\\sklearn\\model_selection\\_search.py:932\u001b[0m, in \u001b[0;36mBaseSearchCV.fit\u001b[1;34m(self, X, y, **params)\u001b[0m\n\u001b[0;32m    928\u001b[0m params \u001b[38;5;241m=\u001b[39m _check_method_params(X, params\u001b[38;5;241m=\u001b[39mparams)\n\u001b[0;32m    930\u001b[0m routed_params \u001b[38;5;241m=\u001b[39m \u001b[38;5;28mself\u001b[39m\u001b[38;5;241m.\u001b[39m_get_routed_params_for_fit(params)\n\u001b[1;32m--> 932\u001b[0m cv_orig \u001b[38;5;241m=\u001b[39m check_cv(\u001b[38;5;28mself\u001b[39m\u001b[38;5;241m.\u001b[39mcv, y, classifier\u001b[38;5;241m=\u001b[39m\u001b[43mis_classifier\u001b[49m\u001b[43m(\u001b[49m\u001b[43mestimator\u001b[49m\u001b[43m)\u001b[49m)\n\u001b[0;32m    933\u001b[0m n_splits \u001b[38;5;241m=\u001b[39m cv_orig\u001b[38;5;241m.\u001b[39mget_n_splits(X, y, \u001b[38;5;241m*\u001b[39m\u001b[38;5;241m*\u001b[39mrouted_params\u001b[38;5;241m.\u001b[39msplitter\u001b[38;5;241m.\u001b[39msplit)\n\u001b[0;32m    935\u001b[0m base_estimator \u001b[38;5;241m=\u001b[39m clone(\u001b[38;5;28mself\u001b[39m\u001b[38;5;241m.\u001b[39mestimator)\n",
      "File \u001b[1;32md:\\Python\\Columbina\\Lib\\site-packages\\sklearn\\base.py:1237\u001b[0m, in \u001b[0;36mis_classifier\u001b[1;34m(estimator)\u001b[0m\n\u001b[0;32m   1230\u001b[0m     warnings\u001b[38;5;241m.\u001b[39mwarn(\n\u001b[0;32m   1231\u001b[0m         \u001b[38;5;124mf\u001b[39m\u001b[38;5;124m\"\u001b[39m\u001b[38;5;124mpassing a class to \u001b[39m\u001b[38;5;132;01m{\u001b[39;00m\u001b[38;5;28mprint\u001b[39m(inspect\u001b[38;5;241m.\u001b[39mstack()[\u001b[38;5;241m0\u001b[39m][\u001b[38;5;241m3\u001b[39m])\u001b[38;5;132;01m}\u001b[39;00m\u001b[38;5;124m is deprecated and \u001b[39m\u001b[38;5;124m\"\u001b[39m\n\u001b[0;32m   1232\u001b[0m         \u001b[38;5;124m\"\u001b[39m\u001b[38;5;124mwill be removed in 1.8. Use an instance of the class instead.\u001b[39m\u001b[38;5;124m\"\u001b[39m,\n\u001b[0;32m   1233\u001b[0m         \u001b[38;5;167;01mFutureWarning\u001b[39;00m,\n\u001b[0;32m   1234\u001b[0m     )\n\u001b[0;32m   1235\u001b[0m     \u001b[38;5;28;01mreturn\u001b[39;00m \u001b[38;5;28mgetattr\u001b[39m(estimator, \u001b[38;5;124m\"\u001b[39m\u001b[38;5;124m_estimator_type\u001b[39m\u001b[38;5;124m\"\u001b[39m, \u001b[38;5;28;01mNone\u001b[39;00m) \u001b[38;5;241m==\u001b[39m \u001b[38;5;124m\"\u001b[39m\u001b[38;5;124mclassifier\u001b[39m\u001b[38;5;124m\"\u001b[39m\n\u001b[1;32m-> 1237\u001b[0m \u001b[38;5;28;01mreturn\u001b[39;00m \u001b[43mget_tags\u001b[49m\u001b[43m(\u001b[49m\u001b[43mestimator\u001b[49m\u001b[43m)\u001b[49m\u001b[38;5;241m.\u001b[39mestimator_type \u001b[38;5;241m==\u001b[39m \u001b[38;5;124m\"\u001b[39m\u001b[38;5;124mclassifier\u001b[39m\u001b[38;5;124m\"\u001b[39m\n",
      "File \u001b[1;32md:\\Python\\Columbina\\Lib\\site-packages\\sklearn\\utils\\_tags.py:405\u001b[0m, in \u001b[0;36mget_tags\u001b[1;34m(estimator)\u001b[0m\n\u001b[0;32m    403\u001b[0m \u001b[38;5;28;01mfor\u001b[39;00m klass \u001b[38;5;129;01min\u001b[39;00m \u001b[38;5;28mreversed\u001b[39m(\u001b[38;5;28mtype\u001b[39m(estimator)\u001b[38;5;241m.\u001b[39mmro()):\n\u001b[0;32m    404\u001b[0m     \u001b[38;5;28;01mif\u001b[39;00m \u001b[38;5;124m\"\u001b[39m\u001b[38;5;124m__sklearn_tags__\u001b[39m\u001b[38;5;124m\"\u001b[39m \u001b[38;5;129;01min\u001b[39;00m \u001b[38;5;28mvars\u001b[39m(klass):\n\u001b[1;32m--> 405\u001b[0m         sklearn_tags_provider[klass] \u001b[38;5;241m=\u001b[39m \u001b[43mklass\u001b[49m\u001b[38;5;241;43m.\u001b[39;49m\u001b[43m__sklearn_tags__\u001b[49m\u001b[43m(\u001b[49m\u001b[43mestimator\u001b[49m\u001b[43m)\u001b[49m  \u001b[38;5;66;03m# type: ignore[attr-defined]\u001b[39;00m\n\u001b[0;32m    406\u001b[0m         class_order\u001b[38;5;241m.\u001b[39mappend(klass)\n\u001b[0;32m    407\u001b[0m     \u001b[38;5;28;01melif\u001b[39;00m \u001b[38;5;124m\"\u001b[39m\u001b[38;5;124m_more_tags\u001b[39m\u001b[38;5;124m\"\u001b[39m \u001b[38;5;129;01min\u001b[39;00m \u001b[38;5;28mvars\u001b[39m(klass):\n",
      "File \u001b[1;32md:\\Python\\Columbina\\Lib\\site-packages\\sklearn\\base.py:613\u001b[0m, in \u001b[0;36mRegressorMixin.__sklearn_tags__\u001b[1;34m(self)\u001b[0m\n\u001b[0;32m    612\u001b[0m \u001b[38;5;28;01mdef\u001b[39;00m \u001b[38;5;21m__sklearn_tags__\u001b[39m(\u001b[38;5;28mself\u001b[39m):\n\u001b[1;32m--> 613\u001b[0m     tags \u001b[38;5;241m=\u001b[39m \u001b[38;5;28;43msuper\u001b[39;49m\u001b[43m(\u001b[49m\u001b[43m)\u001b[49m\u001b[38;5;241;43m.\u001b[39;49m\u001b[43m__sklearn_tags__\u001b[49m()\n\u001b[0;32m    614\u001b[0m     tags\u001b[38;5;241m.\u001b[39mestimator_type \u001b[38;5;241m=\u001b[39m \u001b[38;5;124m\"\u001b[39m\u001b[38;5;124mregressor\u001b[39m\u001b[38;5;124m\"\u001b[39m\n\u001b[0;32m    615\u001b[0m     tags\u001b[38;5;241m.\u001b[39mregressor_tags \u001b[38;5;241m=\u001b[39m RegressorTags()\n",
      "\u001b[1;31mAttributeError\u001b[0m: 'super' object has no attribute '__sklearn_tags__'"
     ]
    }
   ],
   "source": [
    "import xgboost as xgb\n",
    "\n",
    "def train_xgboost(X_train, y_train):\n",
    "    param_grid = {\n",
    "        'n_estimators': [500, 800],\n",
    "        'learning_rate': [0.1, 1],\n",
    "        'max_depth': [15, 10],\n",
    "    }\n",
    "    xgb_regressor = xgb.XGBRegressor(device=\"cuda\", random_state=42, objective='reg:squarederror')\n",
    "    grid_search = GridSearchCV(xgb_regressor, param_grid, cv=5, scoring='r2', n_jobs=-1)\n",
    "    grid_search.fit(X_train, y_train)\n",
    "    best_params = grid_search.best_params_\n",
    "    best_xgb_model = grid_search.best_estimator_\n",
    "\n",
    "    return best_xgb_model, best_params\n",
    "\n",
    "best_xgb_model, best_params_xgb = train_xgboost(X_train, y_train)\n",
    "print(f\"XGBoost - Best Parameters: {best_params_xgb}\")\n",
    "\n",
    "print(\"XGBoost Model Performance on Test Set:\")\n",
    "get_accuracy_details(best_xgb_model, X_test, y_test)\n"
   ]
  },
  {
   "cell_type": "code",
   "execution_count": 18,
   "id": "c4cc1c5d",
   "metadata": {},
   "outputs": [
    {
     "name": "stdout",
     "output_type": "stream",
     "text": [
      "XGBoost version: 2.1.3\n",
      "Scikit-Learn version: 1.6.0\n"
     ]
    }
   ],
   "source": [
    "import xgboost as xgb\n",
    "import sklearn\n",
    "print(f\"XGBoost version: {xgb.__version__}\")\n",
    "print(f\"Scikit-Learn version: {sklearn.__version__}\")\n"
   ]
  },
  {
   "cell_type": "code",
   "execution_count": null,
   "id": "0376e8e8",
   "metadata": {},
   "outputs": [],
   "source": []
  },
  {
   "cell_type": "code",
   "execution_count": 21,
   "id": "1e86392a-86bf-4052-bdea-ac82163c9862",
   "metadata": {
    "execution": {
     "iopub.execute_input": "2024-12-30T16:14:38.399130Z",
     "iopub.status.busy": "2024-12-30T16:14:38.398825Z",
     "iopub.status.idle": "2024-12-30T16:39:38.706283Z",
     "shell.execute_reply": "2024-12-30T16:39:38.705136Z",
     "shell.execute_reply.started": "2024-12-30T16:14:38.399103Z"
    }
   },
   "outputs": [
    {
     "ename": "",
     "evalue": "",
     "output_type": "error",
     "traceback": [
      "\u001b[1;31mThe Kernel crashed while executing code in the current cell or a previous cell. \n",
      "\u001b[1;31mPlease review the code in the cell(s) to identify a possible cause of the failure. \n",
      "\u001b[1;31mClick <a href='https://aka.ms/vscodeJupyterKernelCrash'>here</a> for more info. \n",
      "\u001b[1;31mView Jupyter <a href='command:jupyter.viewOutput'>log</a> for further details."
     ]
    }
   ],
   "source": [
    "from catboost import CatBoostRegressor\n",
    "\n",
    "def train_catboost(X_train, y_train):\n",
    "    param_grid = {\n",
    "        'iterations': [500, 800],\n",
    "        'learning_rate': [0.1, 1],\n",
    "        'depth': [10, 15]\n",
    "    }\n",
    "    cb_regressor = CatBoostRegressor(random_seed=29, verbose=0, task_type=\"GPU\", devices='0')\n",
    "    grid_search = GridSearchCV(cb_regressor, param_grid, cv=5, scoring='r2')\n",
    "    grid_search.fit(X_train, y_train)\n",
    "    best_params = grid_search.best_params_\n",
    "    best_cb_model = grid_search.best_estimator_\n",
    "    \n",
    "    return best_cb_model, best_params\n",
    "\n",
    "best_cb_model, best_params_cb = train_catboost(X_train, y_train)\n",
    "print(f\"CatBoost - Best Parameters: {best_params_cb}\")\n",
    "get_accuracy_details(best_cb_model, X_test, y_test)"
   ]
  },
  {
   "cell_type": "code",
   "execution_count": null,
   "id": "29a0a129-fddb-4a71-b89a-8f898dcac613",
   "metadata": {
    "execution": {
     "iopub.execute_input": "2024-12-30T16:49:35.951586Z",
     "iopub.status.busy": "2024-12-30T16:49:35.951261Z",
     "iopub.status.idle": "2024-12-30T16:49:36.787051Z",
     "shell.execute_reply": "2024-12-30T16:49:36.786210Z",
     "shell.execute_reply.started": "2024-12-30T16:49:35.951561Z"
    }
   },
   "outputs": [
    {
     "ename": "NameError",
     "evalue": "name 'best_cb_model' is not defined",
     "output_type": "error",
     "traceback": [
      "\u001b[1;31m---------------------------------------------------------------------------\u001b[0m",
      "\u001b[1;31mNameError\u001b[0m                                 Traceback (most recent call last)",
      "Cell \u001b[1;32mIn[20], line 15\u001b[0m\n\u001b[0;32m     12\u001b[0m     mae \u001b[38;5;241m=\u001b[39m mean_absolute_error(y_test, y_pred)\n\u001b[0;32m     13\u001b[0m     metrics[name] \u001b[38;5;241m=\u001b[39m {\u001b[38;5;124m'\u001b[39m\u001b[38;5;124mR²\u001b[39m\u001b[38;5;124m'\u001b[39m: r2, \u001b[38;5;124m'\u001b[39m\u001b[38;5;124mMSE\u001b[39m\u001b[38;5;124m'\u001b[39m: mse, \u001b[38;5;124m'\u001b[39m\u001b[38;5;124mMAE\u001b[39m\u001b[38;5;124m'\u001b[39m: mae}\n\u001b[1;32m---> 15\u001b[0m collect_metrics(\u001b[43mbest_cb_model\u001b[49m, \u001b[38;5;124m'\u001b[39m\u001b[38;5;124mCatBoost\u001b[39m\u001b[38;5;124m'\u001b[39m, X_test, y_test)\n\u001b[0;32m     16\u001b[0m collect_metrics(best_rf_model, \u001b[38;5;124m'\u001b[39m\u001b[38;5;124mRandom Forest\u001b[39m\u001b[38;5;124m'\u001b[39m, X_test, y_test)\n\u001b[0;32m     17\u001b[0m collect_metrics(best_mlp_model, \u001b[38;5;124m'\u001b[39m\u001b[38;5;124mMLP\u001b[39m\u001b[38;5;124m'\u001b[39m, X_test, y_test)\n",
      "\u001b[1;31mNameError\u001b[0m: name 'best_cb_model' is not defined"
     ]
    }
   ],
   "source": [
    "import matplotlib.pyplot as plt\n",
    "import numpy as np\n",
    "from sklearn.metrics import mean_squared_error, mean_absolute_error\n",
    "\n",
    "# Collect the performance metrics\n",
    "metrics = {}\n",
    "\n",
    "def collect_metrics(model, name, X_test, y_test):\n",
    "    y_pred = model.predict(X_test)\n",
    "    r2 = model.score(X_test, y_test)\n",
    "    mse = mean_squared_error(y_test, y_pred)\n",
    "    mae = mean_absolute_error(y_test, y_pred)\n",
    "    metrics[name] = {'R²': r2, 'MSE': mse, 'MAE': mae}\n",
    "\n",
    "collect_metrics(best_cb_model, 'CatBoost', X_test, y_test)\n",
    "collect_metrics(best_rf_model, 'Random Forest', X_test, y_test)\n",
    "collect_metrics(best_mlp_model, 'MLP', X_test, y_test)\n",
    "collect_metrics(best_xgb_model, 'XGBoost', X_test, y_test)\n",
    "\n",
    "# Visualize the metrics (Improved with color palette and log scale for MSE)\n",
    "metric_names = ['R2', 'MSE', 'MAE']\n",
    "model_names = list(metrics.keys())\n",
    "\n",
    "# --- Create the plot ---\n",
    "fig, ax = plt.subplots(figsize=(12, 6))\n",
    "\n",
    "# --- Bar width and positions ---\n",
    "bar_width = 0.2\n",
    "x = np.arange(len(metric_names))\n",
    "\n",
    "# --- Color Palette ---\n",
    "colors = plt.cm.Set2(np.linspace(0, 1, len(model_names)))  # Using a colormap\n",
    "\n",
    "# --- Plotting the bars for each model ---\n",
    "for i, model_name in enumerate(model_names):\n",
    "    metric_values = [metrics[model_name][metric] for metric in metric_names]\n",
    "    rects = ax.bar(x + i * bar_width, metric_values, bar_width, label=model_name, color=colors[i])\n",
    "    ax.bar_label(rects, padding=3, fmt='%.3f')\n",
    "\n",
    "# --- Customize the plot ---\n",
    "ax.set_xlabel('Metrics', fontweight='bold')\n",
    "ax.set_ylabel('Value', fontweight='bold')\n",
    "ax.set_title('Model Comparison - Performance Metrics', fontweight='bold', fontsize=14)\n",
    "ax.set_xticks(x + bar_width * (len(model_names) - 1) / 2)\n",
    "ax.set_xticklabels(metric_names)\n",
    "ax.legend()\n",
    "\n",
    "# --- Log Scale for MSE ---\n",
    "ax.set_yscale('log')  # Apply log scale to the entire y-axis\n",
    "# OR, create a separate y-axis for MSE:\n",
    "# ax2 = ax.twinx()\n",
    "# ax2.set_ylabel('MSE (log scale)', color='tab:red')\n",
    "# ax2.set_yscale('log')\n",
    "# Plot MSE bars on ax2 using a different color if needed\n",
    "\n",
    "# --- Adjust layout and display ---\n",
    "fig.tight_layout()\n",
    "plt.show()"
   ]
  },
  {
   "cell_type": "code",
   "execution_count": 17,
   "id": "96074ced-ae28-48d1-8cb4-0ac2dbb7f9a3",
   "metadata": {
    "execution": {
     "iopub.execute_input": "2024-12-30T17:51:25.058446Z",
     "iopub.status.busy": "2024-12-30T17:51:25.058129Z",
     "iopub.status.idle": "2024-12-30T17:51:25.544562Z",
     "shell.execute_reply": "2024-12-30T17:51:25.543866Z",
     "shell.execute_reply.started": "2024-12-30T17:51:25.058423Z"
    }
   },
   "outputs": [],
   "source": [
    "# --- Save the model (JSON format) ---\n",
    "best_xgb_model.save_model(\"xgboost_model.json\")"
   ]
  },
  {
   "cell_type": "code",
   "execution_count": null,
   "id": "03a7ec75",
   "metadata": {},
   "outputs": [],
   "source": [
    "# --- Save the model (JSON format) ---\n",
    "best_cb_model.save_model(\"catboost_model.json\")"
   ]
  }
 ],
 "metadata": {
  "kaggle": {
   "accelerator": "gpu",
   "dataSources": [
    {
     "datasetId": 6399544,
     "sourceId": 10335181,
     "sourceType": "datasetVersion"
    }
   ],
   "dockerImageVersionId": 30823,
   "isGpuEnabled": true,
   "isInternetEnabled": true,
   "language": "python",
   "sourceType": "notebook"
  },
  "kernelspec": {
   "display_name": "Columbina",
   "language": "python",
   "name": "python3"
  },
  "language_info": {
   "codemirror_mode": {
    "name": "ipython",
    "version": 3
   },
   "file_extension": ".py",
   "mimetype": "text/x-python",
   "name": "python",
   "nbconvert_exporter": "python",
   "pygments_lexer": "ipython3",
   "version": "3.11.8"
  }
 },
 "nbformat": 4,
 "nbformat_minor": 5
}
