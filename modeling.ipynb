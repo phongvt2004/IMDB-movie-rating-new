{
 "cells": [
  {
   "cell_type": "code",
   "execution_count": 1,
   "id": "3310eda7",
   "metadata": {
    "execution": {
     "iopub.execute_input": "2025-01-03T08:10:23.158260Z",
     "iopub.status.busy": "2025-01-03T08:10:23.157821Z",
     "iopub.status.idle": "2025-01-03T08:10:27.612559Z",
     "shell.execute_reply": "2025-01-03T08:10:27.611514Z"
    },
    "papermill": {
     "duration": 4.46152,
     "end_time": "2025-01-03T08:10:27.614123",
     "exception": false,
     "start_time": "2025-01-03T08:10:23.152603",
     "status": "completed"
    },
    "tags": []
   },
   "outputs": [
    {
     "name": "stdout",
     "output_type": "stream",
     "text": [
      "Requirement already satisfied: catboost in /usr/local/lib/python3.10/dist-packages (1.2.7)\r\n",
      "Requirement already satisfied: xgboost in /usr/local/lib/python3.10/dist-packages (2.0.3)\r\n",
      "Requirement already satisfied: graphviz in /usr/local/lib/python3.10/dist-packages (from catboost) (0.20.3)\r\n",
      "Requirement already satisfied: matplotlib in /usr/local/lib/python3.10/dist-packages (from catboost) (3.7.1)\r\n",
      "Requirement already satisfied: numpy<2.0,>=1.16.0 in /usr/local/lib/python3.10/dist-packages (from catboost) (1.26.4)\r\n",
      "Requirement already satisfied: pandas>=0.24 in /usr/local/lib/python3.10/dist-packages (from catboost) (2.1.4)\r\n",
      "Requirement already satisfied: scipy in /usr/local/lib/python3.10/dist-packages (from catboost) (1.13.1)\r\n",
      "Requirement already satisfied: plotly in /usr/local/lib/python3.10/dist-packages (from catboost) (5.24.1)\r\n",
      "Requirement already satisfied: six in /usr/local/lib/python3.10/dist-packages (from catboost) (1.16.0)\r\n",
      "Requirement already satisfied: python-dateutil>=2.8.2 in /usr/local/lib/python3.10/dist-packages (from pandas>=0.24->catboost) (2.8.2)\r\n",
      "Requirement already satisfied: pytz>=2020.1 in /usr/local/lib/python3.10/dist-packages (from pandas>=0.24->catboost) (2024.2)\r\n",
      "Requirement already satisfied: tzdata>=2022.1 in /usr/local/lib/python3.10/dist-packages (from pandas>=0.24->catboost) (2024.1)\r\n",
      "Requirement already satisfied: contourpy>=1.0.1 in /usr/local/lib/python3.10/dist-packages (from matplotlib->catboost) (1.3.0)\r\n",
      "Requirement already satisfied: cycler>=0.10 in /usr/local/lib/python3.10/dist-packages (from matplotlib->catboost) (0.12.1)\r\n",
      "Requirement already satisfied: fonttools>=4.22.0 in /usr/local/lib/python3.10/dist-packages (from matplotlib->catboost) (4.53.1)\r\n",
      "Requirement already satisfied: kiwisolver>=1.0.1 in /usr/local/lib/python3.10/dist-packages (from matplotlib->catboost) (1.4.7)\r\n",
      "Requirement already satisfied: packaging>=20.0 in /usr/local/lib/python3.10/dist-packages (from matplotlib->catboost) (24.1)\r\n",
      "Requirement already satisfied: pillow>=6.2.0 in /usr/local/lib/python3.10/dist-packages (from matplotlib->catboost) (10.4.0)\r\n",
      "Requirement already satisfied: pyparsing>=2.3.1 in /usr/local/lib/python3.10/dist-packages (from matplotlib->catboost) (3.1.4)\r\n",
      "Requirement already satisfied: tenacity>=6.2.0 in /usr/local/lib/python3.10/dist-packages (from plotly->catboost) (9.0.0)\r\n"
     ]
    }
   ],
   "source": [
    "!pip install catboost xgboost"
   ]
  },
  {
   "cell_type": "code",
   "execution_count": 2,
   "id": "f77b3222",
   "metadata": {
    "execution": {
     "iopub.execute_input": "2025-01-03T08:10:27.621640Z",
     "iopub.status.busy": "2025-01-03T08:10:27.621400Z",
     "iopub.status.idle": "2025-01-03T08:10:27.625684Z",
     "shell.execute_reply": "2025-01-03T08:10:27.624943Z"
    },
    "papermill": {
     "duration": 0.009195,
     "end_time": "2025-01-03T08:10:27.626906",
     "exception": false,
     "start_time": "2025-01-03T08:10:27.617711",
     "status": "completed"
    },
    "tags": []
   },
   "outputs": [
    {
     "name": "stdout",
     "output_type": "stream",
     "text": [
      "['__notebook__.ipynb']\n"
     ]
    }
   ],
   "source": [
    "import os\n",
    "print(os.listdir('.'))"
   ]
  },
  {
   "cell_type": "code",
   "execution_count": 3,
   "id": "48646298",
   "metadata": {
    "execution": {
     "iopub.execute_input": "2025-01-03T08:10:27.633461Z",
     "iopub.status.busy": "2025-01-03T08:10:27.633220Z",
     "iopub.status.idle": "2025-01-03T08:10:29.335427Z",
     "shell.execute_reply": "2025-01-03T08:10:29.334620Z"
    },
    "papermill": {
     "duration": 1.707102,
     "end_time": "2025-01-03T08:10:29.336993",
     "exception": false,
     "start_time": "2025-01-03T08:10:27.629891",
     "status": "completed"
    },
    "tags": []
   },
   "outputs": [],
   "source": [
    "import pandas as pd\n",
    "from sklearn.model_selection import train_test_split"
   ]
  },
  {
   "cell_type": "code",
   "execution_count": 4,
   "id": "32478af0",
   "metadata": {
    "execution": {
     "iopub.execute_input": "2025-01-03T08:10:29.344194Z",
     "iopub.status.busy": "2025-01-03T08:10:29.343833Z",
     "iopub.status.idle": "2025-01-03T08:10:29.475889Z",
     "shell.execute_reply": "2025-01-03T08:10:29.474967Z"
    },
    "papermill": {
     "duration": 0.137366,
     "end_time": "2025-01-03T08:10:29.477681",
     "exception": false,
     "start_time": "2025-01-03T08:10:29.340315",
     "status": "completed"
    },
    "tags": []
   },
   "outputs": [],
   "source": [
    "data_df = pd.read_csv(\"/kaggle/input/selected-data-imdb/data_selected.csv\")\n",
    "X = data_df.drop('Rating', axis=1)\n",
    "Y = data_df['Rating']\n",
    "X_train, X_test, y_train, y_test = train_test_split(X, Y, test_size=0.3, random_state=42)"
   ]
  },
  {
   "cell_type": "code",
   "execution_count": 5,
   "id": "07fbe19e",
   "metadata": {
    "execution": {
     "iopub.execute_input": "2025-01-03T08:10:29.484685Z",
     "iopub.status.busy": "2025-01-03T08:10:29.484458Z",
     "iopub.status.idle": "2025-01-03T08:10:29.489788Z",
     "shell.execute_reply": "2025-01-03T08:10:29.488910Z"
    },
    "papermill": {
     "duration": 0.010186,
     "end_time": "2025-01-03T08:10:29.491158",
     "exception": false,
     "start_time": "2025-01-03T08:10:29.480972",
     "status": "completed"
    },
    "tags": []
   },
   "outputs": [
    {
     "name": "stdout",
     "output_type": "stream",
     "text": [
      "Training shape (X, Y): (17718, 16) (17718,)\n",
      "Test shape (X, Y): (7594, 16) (7594,)\n"
     ]
    }
   ],
   "source": [
    "print(\"Training shape (X, Y):\", X_train.shape, y_train.shape)\n",
    "# print(\"Validation shape (X, Y):\", X_val.shape, y_val.shape)\n",
    "print(\"Test shape (X, Y):\", X_test.shape, y_test.shape)"
   ]
  },
  {
   "cell_type": "code",
   "execution_count": 6,
   "id": "626989fa",
   "metadata": {
    "execution": {
     "iopub.execute_input": "2025-01-03T08:10:29.497875Z",
     "iopub.status.busy": "2025-01-03T08:10:29.497637Z",
     "iopub.status.idle": "2025-01-03T08:10:29.502006Z",
     "shell.execute_reply": "2025-01-03T08:10:29.501380Z"
    },
    "papermill": {
     "duration": 0.008962,
     "end_time": "2025-01-03T08:10:29.503146",
     "exception": false,
     "start_time": "2025-01-03T08:10:29.494184",
     "status": "completed"
    },
    "tags": []
   },
   "outputs": [],
   "source": [
    "def get_accuracy_details(model, X,y):\n",
    "    \"\"\"\n",
    "    Calculates and prints accuracy details for a given model using provided features and target data.\n",
    "\n",
    "    Args:\n",
    "        model: A trained machine learning model with `predict` and `score` methods.\n",
    "        X: Features data used for making predictions.\n",
    "        y: True target values corresponding to the features.\n",
    "\n",
    "    Prints:\n",
    "        Validation R² score: Coefficient of determination of the prediction.\n",
    "        Validation Mean Squared Error: Mean of the squared differences between predicted and true values.\n",
    "        Validation Mean Absolute Error: Mean of the absolute differences between predicted and true values.\n",
    "    \"\"\"\n",
    "\n",
    "    y_pred = model.predict(X)\n",
    "\n",
    "    # Calculate R² score\n",
    "    r2_score = model.score(X, y)\n",
    "\n",
    "    from sklearn.metrics import mean_squared_error, mean_absolute_error\n",
    "    val_mse = mean_squared_error(y, y_pred)\n",
    "    val_mae = mean_absolute_error(y, y_pred)\n",
    "\n",
    "    print(f\"Validation R² score: {r2_score}\")\n",
    "    print(f\"Validation Mean Squared Error: {val_mse}\")\n",
    "    print(f\"Validation Mean Absolute Error: {val_mae}\")"
   ]
  },
  {
   "cell_type": "code",
   "execution_count": 7,
   "id": "876d265b",
   "metadata": {
    "execution": {
     "iopub.execute_input": "2025-01-03T08:10:29.510048Z",
     "iopub.status.busy": "2025-01-03T08:10:29.509825Z",
     "iopub.status.idle": "2025-01-03T08:10:29.512818Z",
     "shell.execute_reply": "2025-01-03T08:10:29.512179Z"
    },
    "papermill": {
     "duration": 0.007808,
     "end_time": "2025-01-03T08:10:29.514028",
     "exception": false,
     "start_time": "2025-01-03T08:10:29.506220",
     "status": "completed"
    },
    "tags": []
   },
   "outputs": [],
   "source": [
    "from sklearn.model_selection import GridSearchCV"
   ]
  },
  {
   "cell_type": "code",
   "execution_count": 8,
   "id": "e9c27beb",
   "metadata": {
    "execution": {
     "iopub.execute_input": "2025-01-03T08:10:29.520746Z",
     "iopub.status.busy": "2025-01-03T08:10:29.520547Z",
     "iopub.status.idle": "2025-01-03T08:18:57.011903Z",
     "shell.execute_reply": "2025-01-03T08:18:57.010582Z"
    },
    "papermill": {
     "duration": 507.496237,
     "end_time": "2025-01-03T08:18:57.013350",
     "exception": false,
     "start_time": "2025-01-03T08:10:29.517113",
     "status": "completed"
    },
    "tags": []
   },
   "outputs": [
    {
     "name": "stderr",
     "output_type": "stream",
     "text": [
      "/usr/local/lib/python3.10/dist-packages/joblib/externals/loky/process_executor.py:752: UserWarning: A worker stopped while some jobs were given to the executor. This can be caused by a too short worker timeout or by a memory leak.\n",
      "  warnings.warn(\n"
     ]
    },
    {
     "name": "stdout",
     "output_type": "stream",
     "text": [
      "Random Forest - Best Parameters: {'max_depth': 15, 'n_estimators': 800}\n",
      "Validation R² score: 0.7785887933767235\n",
      "Validation Mean Squared Error: 0.2921084288964861\n",
      "Validation Mean Absolute Error: 0.38259951629140987\n"
     ]
    }
   ],
   "source": [
    "from sklearn.ensemble import RandomForestRegressor\n",
    "\n",
    "def train_random_forest(X_train, y_train):\n",
    "    param_grid = {\n",
    "        'n_estimators': [500, 800],\n",
    "        'max_depth': [10, 15],\n",
    "    }\n",
    "    rf_regressor = RandomForestRegressor(random_state=42)\n",
    "    grid_search = GridSearchCV(rf_regressor, param_grid, cv=5, scoring='r2', n_jobs=-1)\n",
    "    grid_search.fit(X_train, y_train)\n",
    "    best_params = grid_search.best_params_\n",
    "    best_rf_model = grid_search.best_estimator_\n",
    "\n",
    "    return best_rf_model, best_params\n",
    "\n",
    "best_rf_model, best_params_rf = train_random_forest(X_train, y_train)\n",
    "print(f\"Random Forest - Best Parameters: {best_params_rf}\")\n",
    "get_accuracy_details(best_rf_model, X_test, y_test)"
   ]
  },
  {
   "cell_type": "code",
   "execution_count": 9,
   "id": "c6035b4f",
   "metadata": {
    "execution": {
     "iopub.execute_input": "2025-01-03T08:18:57.021394Z",
     "iopub.status.busy": "2025-01-03T08:18:57.021085Z",
     "iopub.status.idle": "2025-01-03T08:37:24.236824Z",
     "shell.execute_reply": "2025-01-03T08:37:24.235143Z"
    },
    "papermill": {
     "duration": 1107.222785,
     "end_time": "2025-01-03T08:37:24.239721",
     "exception": false,
     "start_time": "2025-01-03T08:18:57.016936",
     "status": "completed"
    },
    "tags": []
   },
   "outputs": [
    {
     "name": "stdout",
     "output_type": "stream",
     "text": [
      "MLP - Best Parameters: {'activation': 'relu', 'alpha': 0.01, 'hidden_layer_sizes': (32, 256, 1024, 1024, 1024, 256, 32), 'learning_rate_init': 0.1, 'solver': 'adam'}\n",
      "MLP Model Performance on Test Set:\n",
      "Validation R² score: -34.3044146994127\n",
      "Validation Mean Squared Error: 46.57721381060077\n",
      "Validation Mean Absolute Error: 6.727400017266884\n"
     ]
    }
   ],
   "source": [
    "from sklearn.neural_network import MLPRegressor\n",
    "\n",
    "def train_mlp(X_train, y_train):\n",
    "    param_grid = {\n",
    "        'hidden_layer_sizes': [(32, 256, 1024, 1024, 256, 32), (32, 256, 1024, 1024, 1024, 256, 32)],\n",
    "        'activation': ['relu'],\n",
    "        'solver': ['adam'],\n",
    "        'alpha': [0.01],\n",
    "        'learning_rate_init': [0.1]\n",
    "    }\n",
    "    mlp_regressor = MLPRegressor(random_state=42, max_iter=200, early_stopping=True, batch_size=1024)\n",
    "    grid_search = GridSearchCV(mlp_regressor, param_grid, cv=5, scoring='r2', n_jobs=-1)\n",
    "    grid_search.fit(X_train, y_train)\n",
    "    best_params = grid_search.best_params_\n",
    "    best_mlp_model = grid_search.best_estimator_\n",
    "\n",
    "    return best_mlp_model, best_params\n",
    "\n",
    "best_mlp_model, best_params_mlp = train_mlp(X_train, y_train)\n",
    "print(f\"MLP - Best Parameters: {best_params_mlp}\")\n",
    "\n",
    "print(\"MLP Model Performance on Test Set:\")\n",
    "get_accuracy_details(best_mlp_model, X_test, y_test)"
   ]
  },
  {
   "cell_type": "code",
   "execution_count": 10,
   "id": "60f91054",
   "metadata": {
    "execution": {
     "iopub.execute_input": "2025-01-03T08:37:24.259630Z",
     "iopub.status.busy": "2025-01-03T08:37:24.259178Z",
     "iopub.status.idle": "2025-01-03T08:40:36.986759Z",
     "shell.execute_reply": "2025-01-03T08:40:36.985696Z"
    },
    "papermill": {
     "duration": 192.742873,
     "end_time": "2025-01-03T08:40:36.991987",
     "exception": false,
     "start_time": "2025-01-03T08:37:24.249114",
     "status": "completed"
    },
    "tags": []
   },
   "outputs": [
    {
     "name": "stderr",
     "output_type": "stream",
     "text": [
      "/usr/local/lib/python3.10/dist-packages/joblib/externals/loky/process_executor.py:752: UserWarning: A worker stopped while some jobs were given to the executor. This can be caused by a too short worker timeout or by a memory leak.\n",
      "  warnings.warn(\n"
     ]
    },
    {
     "name": "stdout",
     "output_type": "stream",
     "text": [
      "XGBoost - Best Parameters: {'learning_rate': 0.1, 'max_depth': 10, 'n_estimators': 500}\n",
      "XGBoost Model Performance on Test Set:\n",
      "Validation R² score: 0.7856608072963843\n",
      "Validation Mean Squared Error: 0.28277830100137424\n",
      "Validation Mean Absolute Error: 0.3764898447943071\n"
     ]
    },
    {
     "name": "stderr",
     "output_type": "stream",
     "text": [
      "/usr/local/lib/python3.10/dist-packages/xgboost/core.py:160: UserWarning: [08:40:36] WARNING: /workspace/src/common/error_msg.cc:58: Falling back to prediction using DMatrix due to mismatched devices. This might lead to higher memory usage and slower performance. XGBoost is running on: cuda:0, while the input data is on: cpu.\n",
      "Potential solutions:\n",
      "- Use a data structure that matches the device ordinal in the booster.\n",
      "- Set the device for booster before call to inplace_predict.\n",
      "\n",
      "This warning will only be shown once.\n",
      "\n",
      "  warnings.warn(smsg, UserWarning)\n"
     ]
    }
   ],
   "source": [
    "import xgboost as xgb\n",
    "\n",
    "def train_xgboost(X_train, y_train):\n",
    "    param_grid = {\n",
    "        'n_estimators': [500, 800],\n",
    "        'learning_rate': [0.1, 1],\n",
    "        'max_depth': [15, 10],\n",
    "    }\n",
    "    xgb_regressor = xgb.XGBRegressor(device=\"cuda\", random_state=42, objective='reg:squarederror')\n",
    "    grid_search = GridSearchCV(xgb_regressor, param_grid, cv=5, scoring='r2', n_jobs=-1)\n",
    "    grid_search.fit(X_train, y_train)\n",
    "    best_params = grid_search.best_params_\n",
    "    best_xgb_model = grid_search.best_estimator_\n",
    "\n",
    "    return best_xgb_model, best_params\n",
    "\n",
    "best_xgb_model, best_params_xgb = train_xgboost(X_train, y_train)\n",
    "print(f\"XGBoost - Best Parameters: {best_params_xgb}\")\n",
    "\n",
    "print(\"XGBoost Model Performance on Test Set:\")\n",
    "get_accuracy_details(best_xgb_model, X_test, y_test)\n"
   ]
  },
  {
   "cell_type": "code",
   "execution_count": 11,
   "id": "bc65b44f",
   "metadata": {
    "execution": {
     "iopub.execute_input": "2025-01-03T08:40:37.000829Z",
     "iopub.status.busy": "2025-01-03T08:40:37.000553Z",
     "iopub.status.idle": "2025-01-03T14:27:21.966532Z",
     "shell.execute_reply": "2025-01-03T14:27:21.965430Z"
    },
    "papermill": {
     "duration": 20804.975924,
     "end_time": "2025-01-03T14:27:21.971599",
     "exception": false,
     "start_time": "2025-01-03T08:40:36.995675",
     "status": "completed"
    },
    "tags": []
   },
   "outputs": [
    {
     "name": "stdout",
     "output_type": "stream",
     "text": [
      "CatBoost - Best Parameters: {'depth': 10, 'iterations': 800, 'learning_rate': 0.1}\n",
      "Validation R² score: 0.7924893084352158\n",
      "Validation Mean Squared Error: 0.2737694402042973\n",
      "Validation Mean Absolute Error: 0.36956934358353405\n"
     ]
    }
   ],
   "source": [
    "from catboost import CatBoostRegressor\n",
    "\n",
    "def train_catboost(X_train, y_train):\n",
    "    param_grid = {\n",
    "        'iterations': [500, 800],\n",
    "        'learning_rate': [0.1, 1],\n",
    "        'depth': [10, 15]\n",
    "    }\n",
    "    cb_regressor = CatBoostRegressor(random_seed=29, verbose=0, task_type=\"GPU\", devices='0')\n",
    "    grid_search = GridSearchCV(cb_regressor, param_grid, cv=5, scoring='r2')\n",
    "    grid_search.fit(X_train, y_train)\n",
    "    best_params = grid_search.best_params_\n",
    "    best_cb_model = grid_search.best_estimator_\n",
    "    \n",
    "    return best_cb_model, best_params\n",
    "\n",
    "best_cb_model, best_params_cb = train_catboost(X_train, y_train)\n",
    "print(f\"CatBoost - Best Parameters: {best_params_cb}\")\n",
    "get_accuracy_details(best_cb_model, X_test, y_test)"
   ]
  },
  {
   "cell_type": "code",
   "execution_count": 12,
   "id": "e81ebd04",
   "metadata": {
    "execution": {
     "iopub.execute_input": "2025-01-03T14:27:21.979970Z",
     "iopub.status.busy": "2025-01-03T14:27:21.979690Z",
     "iopub.status.idle": "2025-01-03T14:27:25.595413Z",
     "shell.execute_reply": "2025-01-03T14:27:25.594510Z"
    },
    "papermill": {
     "duration": 3.621352,
     "end_time": "2025-01-03T14:27:25.596749",
     "exception": false,
     "start_time": "2025-01-03T14:27:21.975397",
     "status": "completed"
    },
    "tags": []
   },
   "outputs": [
    {
     "data": {
      "image/png": "[encoded data removed]",
      "text/plain": [
       "<Figure size 1200x600 with 1 Axes>"
      ]
     },
     "metadata": {},
     "output_type": "display_data"
    }
   ],
   "source": [
    "import matplotlib.pyplot as plt\n",
    "import numpy as np\n",
    "from sklearn.metrics import mean_squared_error, mean_absolute_error\n",
    "\n",
    "# Collect the performance metrics\n",
    "metrics = {}\n",
    "\n",
    "def collect_metrics(model, name, X_test, y_test):\n",
    "    y_pred = model.predict(X_test)\n",
    "    r2 = model.score(X_test, y_test)\n",
    "    mse = mean_squared_error(y_test, y_pred)\n",
    "    mae = mean_absolute_error(y_test, y_pred)\n",
    "    metrics[name] = {'R2': r2, 'MSE': mse, 'MAE': mae}\n",
    "\n",
    "collect_metrics(best_cb_model, 'CatBoost', X_test, y_test)\n",
    "collect_metrics(best_rf_model, 'Random Forest', X_test, y_test)\n",
    "collect_metrics(best_mlp_model, 'MLP', X_test, y_test)\n",
    "collect_metrics(best_xgb_model, 'XGBoost', X_test, y_test)\n",
    "\n",
    "# Visualize the metrics (Improved with color palette and log scale for MSE)\n",
    "metric_names = ['R2', 'MSE', 'MAE']\n",
    "model_names = list(metrics.keys())\n",
    "\n",
    "# --- Create the plot ---\n",
    "fig, ax = plt.subplots(figsize=(12, 6))\n",
    "\n",
    "# --- Bar width and positions ---\n",
    "bar_width = 0.2\n",
    "x = np.arange(len(metric_names))\n",
    "\n",
    "# --- Color Palette ---\n",
    "colors = plt.cm.Set2(np.linspace(0, 1, len(model_names)))  # Using a colormap\n",
    "\n",
    "# --- Plotting the bars for each model ---\n",
    "for i, model_name in enumerate(model_names):\n",
    "    metric_values = [metrics[model_name][metric] for metric in metric_names]\n",
    "    rects = ax.bar(x + i * bar_width, metric_values, bar_width, label=model_name, color=colors[i])\n",
    "    ax.bar_label(rects, padding=3, fmt='%.3f')\n",
    "\n",
    "# --- Customize the plot ---\n",
    "ax.set_xlabel('Metrics', fontweight='bold')\n",
    "ax.set_ylabel('Value', fontweight='bold')\n",
    "ax.set_title('Model Comparison - Performance Metrics', fontweight='bold', fontsize=14)\n",
    "ax.set_xticks(x + bar_width * (len(model_names) - 1) / 2)\n",
    "ax.set_xticklabels(metric_names)\n",
    "ax.legend()\n",
    "\n",
    "# --- Log Scale for MSE ---\n",
    "ax.set_yscale('log')  # Apply log scale to the entire y-axis\n",
    "# OR, create a separate y-axis for MSE:\n",
    "# ax2 = ax.twinx()\n",
    "# ax2.set_ylabel('MSE (log scale)', color='tab:red')\n",
    "# ax2.set_yscale('log')\n",
    "# Plot MSE bars on ax2 using a different color if needed\n",
    "\n",
    "# --- Adjust layout and display ---\n",
    "fig.tight_layout()\n",
    "plt.show()"
   ]
  },
  {
   "cell_type": "code",
   "execution_count": 13,
   "id": "f61f7048",
   "metadata": {
    "execution": {
     "iopub.execute_input": "2025-01-03T14:27:25.605935Z",
     "iopub.status.busy": "2025-01-03T14:27:25.605694Z",
     "iopub.status.idle": "2025-01-03T14:27:25.923453Z",
     "shell.execute_reply": "2025-01-03T14:27:25.922679Z"
    },
    "papermill": {
     "duration": 0.323835,
     "end_time": "2025-01-03T14:27:25.924928",
     "exception": false,
     "start_time": "2025-01-03T14:27:25.601093",
     "status": "completed"
    },
    "tags": []
   },
   "outputs": [],
   "source": [
    "# --- Save the model (JSON format) ---\n",
    "best_xgb_model.save_model(\"xgboost_model.json\")"
   ]
  },
  {
   "cell_type": "code",
   "execution_count": 14,
   "id": "3f711fbb",
   "metadata": {
    "execution": {
     "iopub.execute_input": "2025-01-03T14:27:25.934773Z",
     "iopub.status.busy": "2025-01-03T14:27:25.934543Z",
     "iopub.status.idle": "2025-01-03T14:27:25.976740Z",
     "shell.execute_reply": "2025-01-03T14:27:25.975724Z"
    },
    "papermill": {
     "duration": 0.04845,
     "end_time": "2025-01-03T14:27:25.978084",
     "exception": false,
     "start_time": "2025-01-03T14:27:25.929634",
     "status": "completed"
    },
    "tags": []
   },
   "outputs": [],
   "source": [
    "# --- Save the model (JSON format) ---\n",
    "best_cb_model.save_model(\"catboost_model.json\")"
   ]
  }
 ],
 "metadata": {
  "kaggle": {
   "accelerator": "gpu",
   "dataSources": [
    {
     "datasetId": 6404467,
     "sourceId": 10342441,
     "sourceType": "datasetVersion"
    }
   ],
   "isGpuEnabled": true,
   "isInternetEnabled": true,
   "language": "python",
   "sourceType": "notebook"
  },
  "kernelspec": {
   "display_name": "Python 3 (ipykernel)",
   "language": "python",
   "name": "python3"
  },
  "language_info": {
   "codemirror_mode": {
    "name": "ipython",
    "version": 3
   },
   "file_extension": ".py",
   "mimetype": "text/x-python",
   "name": "python",
   "nbconvert_exporter": "python",
   "pygments_lexer": "ipython3",
   "version": "3.10.12"
  },
  "papermill": {
   "default_parameters": {},
   "duration": 22625.85479,
   "end_time": "2025-01-03T14:27:26.823363",
   "environment_variables": {},
   "exception": null,
   "input_path": "__notebook__.ipynb",
   "output_path": "__notebook__.ipynb",
   "parameters": {},
   "start_time": "2025-01-03T08:10:20.968573",
   "version": "2.6.0"
  }
 },
 "nbformat": 4,
 "nbformat_minor": 5
}
