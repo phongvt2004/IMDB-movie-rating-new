{
 "cells": [
  {
   "cell_type": "code",
   "execution_count": 1,
   "id": "0f9dc6c4-6f76-4e9b-afeb-db5a0945294e",
   "metadata": {
    "execution": {
     "iopub.execute_input": "2024-12-30T15:34:55.400185Z",
     "iopub.status.busy": "2024-12-30T15:34:55.399836Z",
     "iopub.status.idle": "2024-12-30T15:34:59.668409Z",
     "shell.execute_reply": "2024-12-30T15:34:59.667579Z",
     "shell.execute_reply.started": "2024-12-30T15:34:55.400145Z"
    }
   },
   "outputs": [
    {
     "name": "stdout",
     "output_type": "stream",
     "text": [
      "Requirement already satisfied: catboost in /usr/local/lib/python3.10/dist-packages (1.2.7)\n",
      "Requirement already satisfied: xgboost in /usr/local/lib/python3.10/dist-packages (2.0.3)\n",
      "Requirement already satisfied: graphviz in /usr/local/lib/python3.10/dist-packages (from catboost) (0.20.3)\n",
      "Requirement already satisfied: matplotlib in /usr/local/lib/python3.10/dist-packages (from catboost) (3.7.1)\n",
      "Requirement already satisfied: numpy<2.0,>=1.16.0 in /usr/local/lib/python3.10/dist-packages (from catboost) (1.26.4)\n",
      "Requirement already satisfied: pandas>=0.24 in /usr/local/lib/python3.10/dist-packages (from catboost) (2.1.4)\n",
      "Requirement already satisfied: scipy in /usr/local/lib/python3.10/dist-packages (from catboost) (1.13.1)\n",
      "Requirement already satisfied: plotly in /usr/local/lib/python3.10/dist-packages (from catboost) (5.24.1)\n",
      "Requirement already satisfied: six in /usr/local/lib/python3.10/dist-packages (from catboost) (1.16.0)\n",
      "Requirement already satisfied: python-dateutil>=2.8.2 in /usr/local/lib/python3.10/dist-packages (from pandas>=0.24->catboost) (2.8.2)\n",
      "Requirement already satisfied: pytz>=2020.1 in /usr/local/lib/python3.10/dist-packages (from pandas>=0.24->catboost) (2024.2)\n",
      "Requirement already satisfied: tzdata>=2022.1 in /usr/local/lib/python3.10/dist-packages (from pandas>=0.24->catboost) (2024.1)\n",
      "Requirement already satisfied: contourpy>=1.0.1 in /usr/local/lib/python3.10/dist-packages (from matplotlib->catboost) (1.3.0)\n",
      "Requirement already satisfied: cycler>=0.10 in /usr/local/lib/python3.10/dist-packages (from matplotlib->catboost) (0.12.1)\n",
      "Requirement already satisfied: fonttools>=4.22.0 in /usr/local/lib/python3.10/dist-packages (from matplotlib->catboost) (4.53.1)\n",
      "Requirement already satisfied: kiwisolver>=1.0.1 in /usr/local/lib/python3.10/dist-packages (from matplotlib->catboost) (1.4.7)\n",
      "Requirement already satisfied: packaging>=20.0 in /usr/local/lib/python3.10/dist-packages (from matplotlib->catboost) (24.1)\n",
      "Requirement already satisfied: pillow>=6.2.0 in /usr/local/lib/python3.10/dist-packages (from matplotlib->catboost) (10.4.0)\n",
      "Requirement already satisfied: pyparsing>=2.3.1 in /usr/local/lib/python3.10/dist-packages (from matplotlib->catboost) (3.1.4)\n",
      "Requirement already satisfied: tenacity>=6.2.0 in /usr/local/lib/python3.10/dist-packages (from plotly->catboost) (9.0.0)\n"
     ]
    }
   ],
   "source": [
    "!pip install catboost xgboost"
   ]
  },
  {
   "cell_type": "code",
   "execution_count": 2,
   "id": "cfe71c48-50a1-4106-8d01-b6762db38c90",
   "metadata": {
    "execution": {
     "iopub.execute_input": "2024-12-30T15:34:59.669714Z",
     "iopub.status.busy": "2024-12-30T15:34:59.669486Z",
     "iopub.status.idle": "2024-12-30T15:35:00.418936Z",
     "shell.execute_reply": "2024-12-30T15:35:00.418050Z",
     "shell.execute_reply.started": "2024-12-30T15:34:59.669689Z"
    }
   },
   "outputs": [],
   "source": [
    "import pandas as pd\n",
    "from sklearn.model_selection import train_test_split"
   ]
  },
  {
   "cell_type": "code",
   "execution_count": 3,
   "id": "451151ea-ed7a-4152-b0d2-daf3429cce8a",
   "metadata": {
    "execution": {
     "iopub.execute_input": "2024-12-30T15:35:00.421069Z",
     "iopub.status.busy": "2024-12-30T15:35:00.420705Z",
     "iopub.status.idle": "2024-12-30T15:35:00.686824Z",
     "shell.execute_reply": "2024-12-30T15:35:00.686167Z",
     "shell.execute_reply.started": "2024-12-30T15:35:00.421047Z"
    }
   },
   "outputs": [],
   "source": [
    "data_df = pd.read_csv(\"data_selected.csv\")\n",
    "X = data_df.drop('Rating', axis=1)\n",
    "Y = data_df['Rating']\n",
    "X_train, X_test, y_train, y_test = train_test_split(X, Y, test_size=0.3, random_state=42)"
   ]
  },
  {
   "cell_type": "code",
   "execution_count": 4,
   "id": "e8b47ffc-a325-4ff4-aa4a-f9500b6f9691",
   "metadata": {
    "execution": {
     "iopub.execute_input": "2024-12-30T15:35:00.688262Z",
     "iopub.status.busy": "2024-12-30T15:35:00.688041Z",
     "iopub.status.idle": "2024-12-30T15:35:00.693384Z",
     "shell.execute_reply": "2024-12-30T15:35:00.692693Z",
     "shell.execute_reply.started": "2024-12-30T15:35:00.688244Z"
    }
   },
   "outputs": [
    {
     "name": "stdout",
     "output_type": "stream",
     "text": [
      "Training shape (X, Y): (70873, 10) (70873,)\n",
      "Test shape (X, Y): (30375, 10) (30375,)\n"
     ]
    }
   ],
   "source": [
    "print(\"Training shape (X, Y):\", X_train.shape, y_train.shape)\n",
    "# print(\"Validation shape (X, Y):\", X_val.shape, y_val.shape)\n",
    "print(\"Test shape (X, Y):\", X_test.shape, y_test.shape)"
   ]
  },
  {
   "cell_type": "code",
   "execution_count": 5,
   "id": "73639874-6288-494c-8b11-de9409d1faae",
   "metadata": {
    "execution": {
     "iopub.execute_input": "2024-12-30T15:35:00.694427Z",
     "iopub.status.busy": "2024-12-30T15:35:00.694194Z",
     "iopub.status.idle": "2024-12-30T15:35:00.706609Z",
     "shell.execute_reply": "2024-12-30T15:35:00.705809Z",
     "shell.execute_reply.started": "2024-12-30T15:35:00.694409Z"
    }
   },
   "outputs": [],
   "source": [
    "def get_accuracy_details(model, X,y):\n",
    "    \"\"\"\n",
    "    Calculates and prints accuracy details for a given model using provided features and target data.\n",
    "\n",
    "    Args:\n",
    "        model: A trained machine learning model with `predict` and `score` methods.\n",
    "        X: Features data used for making predictions.\n",
    "        y: True target values corresponding to the features.\n",
    "\n",
    "    Prints:\n",
    "        Validation R² score: Coefficient of determination of the prediction.\n",
    "        Validation Mean Squared Error: Mean of the squared differences between predicted and true values.\n",
    "        Validation Mean Absolute Error: Mean of the absolute differences between predicted and true values.\n",
    "    \"\"\"\n",
    "\n",
    "    y_pred = model.predict(X)\n",
    "\n",
    "    # Calculate R² score\n",
    "    r2_score = model.score(X, y)\n",
    "\n",
    "    from sklearn.metrics import mean_squared_error, mean_absolute_error\n",
    "    val_mse = mean_squared_error(y, y_pred)\n",
    "    val_mae = mean_absolute_error(y, y_pred)\n",
    "\n",
    "    print(f\"Validation R² score: {r2_score}\")\n",
    "    print(f\"Validation Mean Squared Error: {val_mse}\")\n",
    "    print(f\"Validation Mean Absolute Error: {val_mae}\")"
   ]
  },
  {
   "cell_type": "code",
   "execution_count": 6,
   "id": "2dcba216-87ae-4da2-a3c0-5d2755328757",
   "metadata": {
    "execution": {
     "iopub.execute_input": "2024-12-30T15:35:00.707767Z",
     "iopub.status.busy": "2024-12-30T15:35:00.707454Z",
     "iopub.status.idle": "2024-12-30T15:35:00.720962Z",
     "shell.execute_reply": "2024-12-30T15:35:00.720261Z",
     "shell.execute_reply.started": "2024-12-30T15:35:00.707731Z"
    }
   },
   "outputs": [],
   "source": [
    "from sklearn.model_selection import GridSearchCV"
   ]
  },
  {
   "cell_type": "code",
   "execution_count": 7,
   "id": "f2591e62-a551-41b0-a89d-93271b385be7",
   "metadata": {
    "execution": {
     "iopub.execute_input": "2024-12-30T15:35:00.721893Z",
     "iopub.status.busy": "2024-12-30T15:35:00.721671Z",
     "iopub.status.idle": "2024-12-30T15:56:34.198325Z",
     "shell.execute_reply": "2024-12-30T15:56:34.197200Z",
     "shell.execute_reply.started": "2024-12-30T15:35:00.721875Z"
    }
   },
   "outputs": [
    {
     "name": "stdout",
     "output_type": "stream",
     "text": [
      "Random Forest - Best Parameters: {'max_depth': 15, 'n_estimators': 800}\n",
      "Validation R² score: 0.7475914689679948\n",
      "Validation Mean Squared Error: 0.3262961063840435\n",
      "Validation Mean Absolute Error: 0.4096825347558398\n"
     ]
    }
   ],
   "source": [
    "from sklearn.ensemble import RandomForestRegressor\n",
    "\n",
    "def train_random_forest(X_train, y_train):\n",
    "    param_grid = {\n",
    "        'n_estimators': [500, 800],\n",
    "        'max_depth': [10, 15],\n",
    "    }\n",
    "    rf_regressor = RandomForestRegressor(random_state=42)\n",
    "    grid_search = GridSearchCV(rf_regressor, param_grid, cv=5, scoring='r2', n_jobs=-1)\n",
    "    grid_search.fit(X_train, y_train)\n",
    "    best_params = grid_search.best_params_\n",
    "    best_rf_model = grid_search.best_estimator_\n",
    "\n",
    "    return best_rf_model, best_params\n",
    "\n",
    "best_rf_model, best_params_rf = train_random_forest(X_train, y_train)\n",
    "print(f\"Random Forest - Best Parameters: {best_params_rf}\")\n",
    "get_accuracy_details(best_rf_model, X_test, y_test)"
   ]
  },
  {
   "cell_type": "code",
   "execution_count": 11,
   "id": "497c394f-5c48-4542-b6fa-5bba8e7fedbf",
   "metadata": {
    "execution": {
     "iopub.execute_input": "2024-12-30T16:05:41.148292Z",
     "iopub.status.busy": "2024-12-30T16:05:41.147875Z",
     "iopub.status.idle": "2024-12-30T16:09:12.113823Z",
     "shell.execute_reply": "2024-12-30T16:09:12.111381Z",
     "shell.execute_reply.started": "2024-12-30T16:05:41.148259Z"
    }
   },
   "outputs": [
    {
     "name": "stdout",
     "output_type": "stream",
     "text": [
      "MLP - Best Parameters: {'activation': 'relu', 'alpha': 0.001, 'hidden_layer_sizes': (64, 128, 64), 'learning_rate_init': 0.1, 'solver': 'adam'}\n",
      "MLP Model Performance on Test Set:\n",
      "Validation R² score: -736.7337242618667\n",
      "Validation Mean Squared Error: 953.6905935414823\n",
      "Validation Mean Absolute Error: 6.886554149986306\n"
     ]
    }
   ],
   "source": [
    "from sklearn.neural_network import MLPRegressor\n",
    "\n",
    "def train_mlp(X_train, y_train):\n",
    "    param_grid = {\n",
    "        'hidden_layer_sizes': [(64, 64), (64, 128, 64)],\n",
    "        'activation': ['relu'],\n",
    "        'solver': ['adam'],\n",
    "        'alpha': [0.001, 0.01],\n",
    "        'learning_rate_init': [0.01, 0.1]\n",
    "    }\n",
    "    mlp_regressor = MLPRegressor(random_state=42, max_iter=200, early_stopping=True, batch_size=1024)\n",
    "    grid_search = GridSearchCV(mlp_regressor, param_grid, cv=5, scoring='r2', n_jobs=-1)\n",
    "    grid_search.fit(X_train, y_train)\n",
    "    best_params = grid_search.best_params_\n",
    "    best_mlp_model = grid_search.best_estimator_\n",
    "\n",
    "    return best_mlp_model, best_params\n",
    "\n",
    "best_mlp_model, best_params_mlp = train_mlp(X_train, y_train)\n",
    "print(f\"MLP - Best Parameters: {best_params_mlp}\")\n",
    "\n",
    "print(\"MLP Model Performance on Test Set:\")\n",
    "get_accuracy_details(best_mlp_model, X_test, y_test)"
   ]
  },
  {
   "cell_type": "code",
   "execution_count": 12,
   "id": "8f623b64-c335-4b6f-8583-5b638836029a",
   "metadata": {
    "execution": {
     "iopub.execute_input": "2024-12-30T16:09:12.117442Z",
     "iopub.status.busy": "2024-12-30T16:09:12.117061Z",
     "iopub.status.idle": "2024-12-30T16:14:38.397195Z",
     "shell.execute_reply": "2024-12-30T16:14:38.396137Z",
     "shell.execute_reply.started": "2024-12-30T16:09:12.117394Z"
    }
   },
   "outputs": [
    {
     "name": "stderr",
     "output_type": "stream",
     "text": [
      "/usr/local/lib/python3.10/dist-packages/joblib/externals/loky/process_executor.py:752: UserWarning: A worker stopped while some jobs were given to the executor. This can be caused by a too short worker timeout or by a memory leak.\n",
      "  warnings.warn(\n"
     ]
    },
    {
     "name": "stdout",
     "output_type": "stream",
     "text": [
      "XGBoost - Best Parameters: {'learning_rate': 0.1, 'max_depth': 10, 'n_estimators': 800}\n",
      "XGBoost Model Performance on Test Set:\n",
      "Validation R² score: 0.9796842400100668\n",
      "Validation Mean Squared Error: 0.026262794509538168\n",
      "Validation Mean Absolute Error: 0.05868096121471418\n"
     ]
    },
    {
     "name": "stderr",
     "output_type": "stream",
     "text": [
      "/usr/local/lib/python3.10/dist-packages/xgboost/core.py:160: UserWarning: [16:14:38] WARNING: /workspace/src/common/error_msg.cc:58: Falling back to prediction using DMatrix due to mismatched devices. This might lead to higher memory usage and slower performance. XGBoost is running on: cuda:0, while the input data is on: cpu.\n",
      "Potential solutions:\n",
      "- Use a data structure that matches the device ordinal in the booster.\n",
      "- Set the device for booster before call to inplace_predict.\n",
      "\n",
      "This warning will only be shown once.\n",
      "\n",
      "  warnings.warn(smsg, UserWarning)\n"
     ]
    }
   ],
   "source": [
    "import xgboost as xgb\n",
    "\n",
    "def train_xgboost(X_train, y_train):\n",
    "    param_grid = {\n",
    "        'n_estimators': [500, 800],\n",
    "        'learning_rate': [0.1, 1],\n",
    "        'max_depth': [15, 10],\n",
    "    }\n",
    "    xgb_regressor = xgb.XGBRegressor(device=\"cuda\", random_state=42, objective='reg:squarederror')\n",
    "    grid_search = GridSearchCV(xgb_regressor, param_grid, cv=5, scoring='r2', n_jobs=-1)\n",
    "    grid_search.fit(X_train, y_train)\n",
    "    best_params = grid_search.best_params_\n",
    "    best_xgb_model = grid_search.best_estimator_\n",
    "\n",
    "    return best_xgb_model, best_params\n",
    "\n",
    "best_xgb_model, best_params_xgb = train_xgboost(X_train, y_train)\n",
    "print(f\"XGBoost - Best Parameters: {best_params_xgb}\")\n",
    "\n",
    "print(\"XGBoost Model Performance on Test Set:\")\n",
    "get_accuracy_details(best_xgb_model, X_test, y_test)\n"
   ]
  },
  {
   "cell_type": "code",
   "execution_count": 13,
   "id": "1e86392a-86bf-4052-bdea-ac82163c9862",
   "metadata": {
    "execution": {
     "iopub.execute_input": "2024-12-30T16:14:38.399130Z",
     "iopub.status.busy": "2024-12-30T16:14:38.398825Z",
     "iopub.status.idle": "2024-12-30T16:39:38.706283Z",
     "shell.execute_reply": "2024-12-30T16:39:38.705136Z",
     "shell.execute_reply.started": "2024-12-30T16:14:38.399103Z"
    }
   },
   "outputs": [
    {
     "name": "stdout",
     "output_type": "stream",
     "text": [
      "CatBoost - Best Parameters: {'depth': 15, 'iterations': 800, 'learning_rate': 0.1}\n",
      "Validation R² score: 0.9675803437422249\n",
      "Validation Mean Squared Error: 0.04190986558168179\n",
      "Validation Mean Absolute Error: 0.09237428964075686\n"
     ]
    }
   ],
   "source": [
    "from catboost import CatBoostRegressor\n",
    "\n",
    "def train_catboost(X_train, y_train):\n",
    "    param_grid = {\n",
    "        'iterations': [500, 800],\n",
    "        'learning_rate': [0.1, 1],\n",
    "        'depth': [10, 15]\n",
    "    }\n",
    "    cb_regressor = CatBoostRegressor(random_seed=29, verbose=0, task_type=\"GPU\", devices='0')\n",
    "    grid_search = GridSearchCV(cb_regressor, param_grid, cv=5, scoring='r2')\n",
    "    grid_search.fit(X_train, y_train)\n",
    "    best_params = grid_search.best_params_\n",
    "    best_cb_model = grid_search.best_estimator_\n",
    "    \n",
    "    return best_cb_model, best_params\n",
    "\n",
    "best_cb_model, best_params_cb = train_catboost(X_train, y_train)\n",
    "print(f\"CatBoost - Best Parameters: {best_params_cb}\")\n",
    "get_accuracy_details(best_cb_model, X_test, y_test)"
   ]
  },
  {
   "cell_type": "code",
   "execution_count": 16,
   "id": "29a0a129-fddb-4a71-b89a-8f898dcac613",
   "metadata": {
    "execution": {
     "iopub.execute_input": "2024-12-30T16:49:35.951586Z",
     "iopub.status.busy": "2024-12-30T16:49:35.951261Z",
     "iopub.status.idle": "2024-12-30T16:49:36.787051Z",
     "shell.execute_reply": "2024-12-30T16:49:36.786210Z",
     "shell.execute_reply.started": "2024-12-30T16:49:35.951561Z"
    }
   },
   "outputs": [
    {
     "data": {
      "image/png": "[encoded data removed]",
      "text/plain": [
       "<Figure size 1200x600 with 1 Axes>"
      ]
     },
     "metadata": {},
     "output_type": "display_data"
    }
   ],
   "source": [
    "import matplotlib.pyplot as plt\n",
    "import numpy as np\n",
    "from sklearn.metrics import mean_squared_error, mean_absolute_error\n",
    "\n",
    "# Collect the performance metrics\n",
    "metrics = {}\n",
    "\n",
    "def collect_metrics(model, name, X_test, y_test):\n",
    "    y_pred = model.predict(X_test)\n",
    "    r2 = model.score(X_test, y_test)\n",
    "    mse = mean_squared_error(y_test, y_pred)\n",
    "    mae = mean_absolute_error(y_test, y_pred)\n",
    "    metrics[name] = {'R²': r2, 'MSE': mse, 'MAE': mae}\n",
    "\n",
    "collect_metrics(best_cb_model, 'CatBoost', X_test, y_test)\n",
    "collect_metrics(best_rf_model, 'Random Forest', X_test, y_test)\n",
    "collect_metrics(best_mlp_model, 'MLP', X_test, y_test)\n",
    "collect_metrics(best_xgb_model, 'XGBoost', X_test, y_test)\n",
    "\n",
    "# Visualize the metrics (Improved with color palette and log scale for MSE)\n",
    "metric_names = ['R2', 'MSE', 'MAE']\n",
    "model_names = list(metrics.keys())\n",
    "\n",
    "# --- Create the plot ---\n",
    "fig, ax = plt.subplots(figsize=(12, 6))\n",
    "\n",
    "# --- Bar width and positions ---\n",
    "bar_width = 0.2\n",
    "x = np.arange(len(metric_names))\n",
    "\n",
    "# --- Color Palette ---\n",
    "colors = plt.cm.Set2(np.linspace(0, 1, len(model_names)))  # Using a colormap\n",
    "\n",
    "# --- Plotting the bars for each model ---\n",
    "for i, model_name in enumerate(model_names):\n",
    "    metric_values = [metrics[model_name][metric] for metric in metric_names]\n",
    "    rects = ax.bar(x + i * bar_width, metric_values, bar_width, label=model_name, color=colors[i])\n",
    "    ax.bar_label(rects, padding=3, fmt='%.3f')\n",
    "\n",
    "# --- Customize the plot ---\n",
    "ax.set_xlabel('Metrics', fontweight='bold')\n",
    "ax.set_ylabel('Value', fontweight='bold')\n",
    "ax.set_title('Model Comparison - Performance Metrics', fontweight='bold', fontsize=14)\n",
    "ax.set_xticks(x + bar_width * (len(model_names) - 1) / 2)\n",
    "ax.set_xticklabels(metric_names)\n",
    "ax.legend()\n",
    "\n",
    "# --- Log Scale for MSE ---\n",
    "ax.set_yscale('log')  # Apply log scale to the entire y-axis\n",
    "# OR, create a separate y-axis for MSE:\n",
    "# ax2 = ax.twinx()\n",
    "# ax2.set_ylabel('MSE (log scale)', color='tab:red')\n",
    "# ax2.set_yscale('log')\n",
    "# Plot MSE bars on ax2 using a different color if needed\n",
    "\n",
    "# --- Adjust layout and display ---\n",
    "fig.tight_layout()\n",
    "plt.show()"
   ]
  },
  {
   "cell_type": "code",
   "execution_count": 17,
   "id": "96074ced-ae28-48d1-8cb4-0ac2dbb7f9a3",
   "metadata": {
    "execution": {
     "iopub.execute_input": "2024-12-30T17:51:25.058446Z",
     "iopub.status.busy": "2024-12-30T17:51:25.058129Z",
     "iopub.status.idle": "2024-12-30T17:51:25.544562Z",
     "shell.execute_reply": "2024-12-30T17:51:25.543866Z",
     "shell.execute_reply.started": "2024-12-30T17:51:25.058423Z"
    }
   },
   "outputs": [],
   "source": [
    "# --- Save the model (JSON format) ---\n",
    "best_xgb_model.save_model(\"xgboost_model.json\")"
   ]
  },
  {
   "cell_type": "code",
   "execution_count": null,
   "id": "0da59bd8-7e6c-4a80-80a7-5e454acd0600",
   "metadata": {},
   "outputs": [],
   "source": []
  }
 ],
 "metadata": {
  "kaggle": {
   "accelerator": "gpu",
   "dataSources": [
    {
     "datasetId": 6399544,
     "sourceId": 10335181,
     "sourceType": "datasetVersion"
    }
   ],
   "dockerImageVersionId": 30823,
   "isGpuEnabled": true,
   "isInternetEnabled": true,
   "language": "python",
   "sourceType": "notebook"
  },
  "kernelspec": {
   "display_name": "Python 3 (ipykernel)",
   "language": "python",
   "name": "python3"
  },
  "language_info": {
   "codemirror_mode": {
    "name": "ipython",
    "version": 3
   },
   "file_extension": ".py",
   "mimetype": "text/x-python",
   "name": "python",
   "nbconvert_exporter": "python",
   "pygments_lexer": "ipython3",
   "version": "3.11.7"
  }
 },
 "nbformat": 4,
 "nbformat_minor": 5
}
