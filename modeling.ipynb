{
 "cells": [
  {
   "cell_type": "code",
   "execution_count": 1,
   "id": "23ca76c3",
   "metadata": {
    "execution": {
     "iopub.execute_input": "2024-12-31T07:55:03.909991Z",
     "iopub.status.busy": "2024-12-31T07:55:03.909694Z",
     "iopub.status.idle": "2024-12-31T07:55:08.212729Z",
     "shell.execute_reply": "2024-12-31T07:55:08.211853Z"
    },
    "papermill": {
     "duration": 4.309052,
     "end_time": "2024-12-31T07:55:08.214384",
     "exception": false,
     "start_time": "2024-12-31T07:55:03.905332",
     "status": "completed"
    },
    "tags": []
   },
   "outputs": [
    {
     "name": "stdout",
     "output_type": "stream",
     "text": [
      "Requirement already satisfied: catboost in /usr/local/lib/python3.10/dist-packages (1.2.7)\r\n",
      "Requirement already satisfied: xgboost in /usr/local/lib/python3.10/dist-packages (2.0.3)\r\n",
      "Requirement already satisfied: graphviz in /usr/local/lib/python3.10/dist-packages (from catboost) (0.20.3)\r\n",
      "Requirement already satisfied: matplotlib in /usr/local/lib/python3.10/dist-packages (from catboost) (3.7.1)\r\n",
      "Requirement already satisfied: numpy<2.0,>=1.16.0 in /usr/local/lib/python3.10/dist-packages (from catboost) (1.26.4)\r\n",
      "Requirement already satisfied: pandas>=0.24 in /usr/local/lib/python3.10/dist-packages (from catboost) (2.1.4)\r\n",
      "Requirement already satisfied: scipy in /usr/local/lib/python3.10/dist-packages (from catboost) (1.13.1)\r\n",
      "Requirement already satisfied: plotly in /usr/local/lib/python3.10/dist-packages (from catboost) (5.24.1)\r\n",
      "Requirement already satisfied: six in /usr/local/lib/python3.10/dist-packages (from catboost) (1.16.0)\r\n",
      "Requirement already satisfied: python-dateutil>=2.8.2 in /usr/local/lib/python3.10/dist-packages (from pandas>=0.24->catboost) (2.8.2)\r\n",
      "Requirement already satisfied: pytz>=2020.1 in /usr/local/lib/python3.10/dist-packages (from pandas>=0.24->catboost) (2024.2)\r\n",
      "Requirement already satisfied: tzdata>=2022.1 in /usr/local/lib/python3.10/dist-packages (from pandas>=0.24->catboost) (2024.1)\r\n",
      "Requirement already satisfied: contourpy>=1.0.1 in /usr/local/lib/python3.10/dist-packages (from matplotlib->catboost) (1.3.0)\r\n",
      "Requirement already satisfied: cycler>=0.10 in /usr/local/lib/python3.10/dist-packages (from matplotlib->catboost) (0.12.1)\r\n",
      "Requirement already satisfied: fonttools>=4.22.0 in /usr/local/lib/python3.10/dist-packages (from matplotlib->catboost) (4.53.1)\r\n",
      "Requirement already satisfied: kiwisolver>=1.0.1 in /usr/local/lib/python3.10/dist-packages (from matplotlib->catboost) (1.4.7)\r\n",
      "Requirement already satisfied: packaging>=20.0 in /usr/local/lib/python3.10/dist-packages (from matplotlib->catboost) (24.1)\r\n",
      "Requirement already satisfied: pillow>=6.2.0 in /usr/local/lib/python3.10/dist-packages (from matplotlib->catboost) (10.4.0)\r\n",
      "Requirement already satisfied: pyparsing>=2.3.1 in /usr/local/lib/python3.10/dist-packages (from matplotlib->catboost) (3.1.4)\r\n",
      "Requirement already satisfied: tenacity>=6.2.0 in /usr/local/lib/python3.10/dist-packages (from plotly->catboost) (9.0.0)\r\n"
     ]
    }
   ],
   "source": [
    "!pip install catboost xgboost"
   ]
  },
  {
   "cell_type": "code",
   "execution_count": 2,
   "id": "80345e61",
   "metadata": {
    "execution": {
     "iopub.execute_input": "2024-12-31T07:55:08.221727Z",
     "iopub.status.busy": "2024-12-31T07:55:08.221446Z",
     "iopub.status.idle": "2024-12-31T07:55:09.863345Z",
     "shell.execute_reply": "2024-12-31T07:55:09.862505Z"
    },
    "papermill": {
     "duration": 1.647076,
     "end_time": "2024-12-31T07:55:09.864857",
     "exception": false,
     "start_time": "2024-12-31T07:55:08.217781",
     "status": "completed"
    },
    "tags": []
   },
   "outputs": [],
   "source": [
    "import pandas as pd\n",
    "from sklearn.model_selection import train_test_split"
   ]
  },
  {
   "cell_type": "code",
   "execution_count": 3,
   "id": "4a68f64e",
   "metadata": {
    "execution": {
     "iopub.execute_input": "2024-12-31T07:55:09.871833Z",
     "iopub.status.busy": "2024-12-31T07:55:09.871371Z",
     "iopub.status.idle": "2024-12-31T07:55:10.323292Z",
     "shell.execute_reply": "2024-12-31T07:55:10.322475Z"
    },
    "papermill": {
     "duration": 0.456988,
     "end_time": "2024-12-31T07:55:10.324863",
     "exception": false,
     "start_time": "2024-12-31T07:55:09.867875",
     "status": "completed"
    },
    "tags": []
   },
   "outputs": [],
   "source": [
    "data_df = pd.read_csv(\"/kaggle/input/imdb-final/data_selected_2.csv\")\n",
    "data_df.drop_duplicates(inplace=True)\n",
    "X = data_df.drop('Rating', axis=1)\n",
    "Y = data_df['Rating']\n",
    "\n",
    "X_train, X_test, y_train, y_test = train_test_split(X, Y, test_size=0.3, random_state=42)"
   ]
  },
  {
   "cell_type": "code",
   "execution_count": 4,
   "id": "8524ec25",
   "metadata": {
    "execution": {
     "iopub.execute_input": "2024-12-31T07:55:10.331618Z",
     "iopub.status.busy": "2024-12-31T07:55:10.331370Z",
     "iopub.status.idle": "2024-12-31T07:55:10.335851Z",
     "shell.execute_reply": "2024-12-31T07:55:10.335214Z"
    },
    "papermill": {
     "duration": 0.009131,
     "end_time": "2024-12-31T07:55:10.337191",
     "exception": false,
     "start_time": "2024-12-31T07:55:10.328060",
     "status": "completed"
    },
    "tags": []
   },
   "outputs": [
    {
     "name": "stdout",
     "output_type": "stream",
     "text": [
      "Training shape (X, Y): (17656, 18) (17656,)\n",
      "Test shape (X, Y): (7568, 18) (7568,)\n"
     ]
    }
   ],
   "source": [
    "print(\"Training shape (X, Y):\", X_train.shape, y_train.shape)\n",
    "print(\"Test shape (X, Y):\", X_test.shape, y_test.shape)"
   ]
  },
  {
   "cell_type": "code",
   "execution_count": 5,
   "id": "f09da869",
   "metadata": {
    "execution": {
     "iopub.execute_input": "2024-12-31T07:55:10.343255Z",
     "iopub.status.busy": "2024-12-31T07:55:10.342996Z",
     "iopub.status.idle": "2024-12-31T07:55:10.347238Z",
     "shell.execute_reply": "2024-12-31T07:55:10.346558Z"
    },
    "papermill": {
     "duration": 0.008494,
     "end_time": "2024-12-31T07:55:10.348319",
     "exception": false,
     "start_time": "2024-12-31T07:55:10.339825",
     "status": "completed"
    },
    "tags": []
   },
   "outputs": [],
   "source": [
    "def get_accuracy_details(model, X,y):\n",
    "    \"\"\"\n",
    "    Calculates and prints accuracy details for a given model using provided features and target data.\n",
    "\n",
    "    Args:\n",
    "        model: A trained machine learning model with `predict` and `score` methods.\n",
    "        X: Features data used for making predictions.\n",
    "        y: True target values corresponding to the features.\n",
    "\n",
    "    Prints:\n",
    "        Validation R² score: Coefficient of determination of the prediction.\n",
    "        Validation Mean Squared Error: Mean of the squared differences between predicted and true values.\n",
    "        Validation Mean Absolute Error: Mean of the absolute differences between predicted and true values.\n",
    "    \"\"\"\n",
    "\n",
    "    y_pred = model.predict(X)\n",
    "\n",
    "    # Calculate R² score\n",
    "    r2_score = model.score(X, y)\n",
    "\n",
    "    from sklearn.metrics import mean_squared_error, mean_absolute_error\n",
    "    val_mse = mean_squared_error(y, y_pred)\n",
    "    val_mae = mean_absolute_error(y, y_pred)\n",
    "\n",
    "    print(f\"Validation R² score: {r2_score}\")\n",
    "    print(f\"Validation Mean Squared Error: {val_mse}\")\n",
    "    print(f\"Validation Mean Absolute Error: {val_mae}\")"
   ]
  },
  {
   "cell_type": "code",
   "execution_count": 6,
   "id": "eb87250d",
   "metadata": {
    "execution": {
     "iopub.execute_input": "2024-12-31T07:55:10.354301Z",
     "iopub.status.busy": "2024-12-31T07:55:10.354089Z",
     "iopub.status.idle": "2024-12-31T07:55:10.356820Z",
     "shell.execute_reply": "2024-12-31T07:55:10.356257Z"
    },
    "papermill": {
     "duration": 0.007005,
     "end_time": "2024-12-31T07:55:10.358014",
     "exception": false,
     "start_time": "2024-12-31T07:55:10.351009",
     "status": "completed"
    },
    "tags": []
   },
   "outputs": [],
   "source": [
    "from sklearn.model_selection import GridSearchCV"
   ]
  },
  {
   "cell_type": "code",
   "execution_count": 7,
   "id": "291ce585",
   "metadata": {
    "execution": {
     "iopub.execute_input": "2024-12-31T07:55:10.364120Z",
     "iopub.status.busy": "2024-12-31T07:55:10.363887Z",
     "iopub.status.idle": "2024-12-31T08:03:53.689612Z",
     "shell.execute_reply": "2024-12-31T08:03:53.688390Z"
    },
    "papermill": {
     "duration": 523.330509,
     "end_time": "2024-12-31T08:03:53.691223",
     "exception": false,
     "start_time": "2024-12-31T07:55:10.360714",
     "status": "completed"
    },
    "tags": []
   },
   "outputs": [
    {
     "name": "stdout",
     "output_type": "stream",
     "text": [
      "Random Forest - Best Parameters: {'max_depth': 15, 'n_estimators': 800}\n",
      "Validation R² score: 0.5506602247163668\n",
      "Validation Mean Squared Error: 0.5736151966775072\n",
      "Validation Mean Absolute Error: 0.5297170012249647\n"
     ]
    }
   ],
   "source": [
    "from sklearn.ensemble import RandomForestRegressor\n",
    "\n",
    "def train_random_forest(X_train, y_train):\n",
    "    param_grid = {\n",
    "        'n_estimators': [500, 800],\n",
    "        'max_depth': [10, 15],\n",
    "    }\n",
    "    rf_regressor = RandomForestRegressor(random_state=42)\n",
    "    grid_search = GridSearchCV(rf_regressor, param_grid, cv=5, scoring='neg_mean_absolute_error', n_jobs=-1)\n",
    "    grid_search.fit(X_train, y_train)\n",
    "    best_params = grid_search.best_params_\n",
    "    best_rf_model = grid_search.best_estimator_\n",
    "\n",
    "    return best_rf_model, best_params\n",
    "\n",
    "best_rf_model, best_params_rf = train_random_forest(X_train, y_train)\n",
    "print(f\"Random Forest - Best Parameters: {best_params_rf}\")\n",
    "get_accuracy_details(best_rf_model, X_test, y_test)"
   ]
  },
  {
   "cell_type": "code",
   "execution_count": 8,
   "id": "2c12e563",
   "metadata": {
    "execution": {
     "iopub.execute_input": "2024-12-31T08:03:53.698235Z",
     "iopub.status.busy": "2024-12-31T08:03:53.697961Z",
     "iopub.status.idle": "2024-12-31T08:18:29.770854Z",
     "shell.execute_reply": "2024-12-31T08:18:29.769697Z"
    },
    "papermill": {
     "duration": 876.079457,
     "end_time": "2024-12-31T08:18:29.773793",
     "exception": false,
     "start_time": "2024-12-31T08:03:53.694336",
     "status": "completed"
    },
    "tags": []
   },
   "outputs": [
    {
     "name": "stderr",
     "output_type": "stream",
     "text": [
      "/usr/local/lib/python3.10/dist-packages/sklearn/neural_network/_multilayer_perceptron.py:686: ConvergenceWarning: Stochastic Optimizer: Maximum iterations (200) reached and the optimization hasn't converged yet.\n",
      "  warnings.warn(\n"
     ]
    },
    {
     "name": "stdout",
     "output_type": "stream",
     "text": [
      "MLP - Best Parameters: {'activation': 'relu', 'alpha': 0.01, 'hidden_layer_sizes': (32, 256, 1024, 256, 32), 'learning_rate_init': 0.1, 'solver': 'adam'}\n",
      "MLP Model Performance on Test Set:\n",
      "Validation R² score: -9232.587907446434\n",
      "Validation Mean Squared Error: 11787.352544576435\n",
      "Validation Mean Absolute Error: 9.149214914035515\n"
     ]
    }
   ],
   "source": [
    "from sklearn.neural_network import MLPRegressor\n",
    "\n",
    "def train_mlp(X_train, y_train):\n",
    "    param_grid = {\n",
    "        'hidden_layer_sizes': [(32, 256, 1024, 256, 32), (32, 256, 1024, 1024, 256, 32)],\n",
    "        'activation': ['relu'],\n",
    "        'solver': ['adam'],\n",
    "        'alpha': [0.01],\n",
    "        'learning_rate_init': [0.1]\n",
    "    }\n",
    "    mlp_regressor = MLPRegressor(random_state=42, max_iter=200, early_stopping=True, batch_size=1024)\n",
    "    grid_search = GridSearchCV(mlp_regressor, param_grid, cv=5, scoring='neg_mean_absolute_error', n_jobs=-1)\n",
    "    grid_search.fit(X_train, y_train)\n",
    "    best_params = grid_search.best_params_\n",
    "    best_mlp_model = grid_search.best_estimator_\n",
    "\n",
    "    return best_mlp_model, best_params\n",
    "\n",
    "best_mlp_model, best_params_mlp = train_mlp(X_train, y_train)\n",
    "print(f\"MLP - Best Parameters: {best_params_mlp}\")\n",
    "\n",
    "print(\"MLP Model Performance on Test Set:\")\n",
    "get_accuracy_details(best_mlp_model, X_test, y_test)"
   ]
  },
  {
   "cell_type": "code",
   "execution_count": 9,
   "id": "559dcd42",
   "metadata": {
    "execution": {
     "iopub.execute_input": "2024-12-31T08:18:29.794022Z",
     "iopub.status.busy": "2024-12-31T08:18:29.792169Z",
     "iopub.status.idle": "2024-12-31T08:25:58.749900Z",
     "shell.execute_reply": "2024-12-31T08:25:58.748903Z"
    },
    "papermill": {
     "duration": 448.973036,
     "end_time": "2024-12-31T08:25:58.755711",
     "exception": false,
     "start_time": "2024-12-31T08:18:29.782675",
     "status": "completed"
    },
    "tags": []
   },
   "outputs": [
    {
     "name": "stderr",
     "output_type": "stream",
     "text": [
      "/usr/local/lib/python3.10/dist-packages/joblib/externals/loky/process_executor.py:752: UserWarning: A worker stopped while some jobs were given to the executor. This can be caused by a too short worker timeout or by a memory leak.\n",
      "  warnings.warn(\n"
     ]
    },
    {
     "name": "stdout",
     "output_type": "stream",
     "text": [
      "XGBoost - Best Parameters: {'learning_rate': 0.1, 'max_depth': 10, 'n_estimators': 800}\n",
      "XGBoost Model Performance on Test Set:\n",
      "Validation R² score: 0.5819613253846734\n",
      "Validation Mean Squared Error: 0.5336570447317114\n",
      "Validation Mean Absolute Error: 0.5087832663376332\n"
     ]
    },
    {
     "name": "stderr",
     "output_type": "stream",
     "text": [
      "/usr/local/lib/python3.10/dist-packages/xgboost/core.py:160: UserWarning: [08:25:58] WARNING: /workspace/src/common/error_msg.cc:58: Falling back to prediction using DMatrix due to mismatched devices. This might lead to higher memory usage and slower performance. XGBoost is running on: cuda:0, while the input data is on: cpu.\n",
      "Potential solutions:\n",
      "- Use a data structure that matches the device ordinal in the booster.\n",
      "- Set the device for booster before call to inplace_predict.\n",
      "\n",
      "This warning will only be shown once.\n",
      "\n",
      "  warnings.warn(smsg, UserWarning)\n"
     ]
    }
   ],
   "source": [
    "import xgboost as xgb\n",
    "\n",
    "def train_xgboost(X_train, y_train):\n",
    "    param_grid = {\n",
    "        'n_estimators': [500, 800, 1200],\n",
    "        'learning_rate': [0.1],\n",
    "        'max_depth': [15, 10, 20],\n",
    "    }\n",
    "    xgb_regressor = xgb.XGBRegressor(device=\"cuda\", random_state=42, objective='reg:squarederror')\n",
    "    grid_search = GridSearchCV(xgb_regressor, param_grid, cv=5, scoring='neg_mean_absolute_error', n_jobs=-1)\n",
    "    grid_search.fit(X_train, y_train)\n",
    "    best_params = grid_search.best_params_\n",
    "    best_xgb_model = grid_search.best_estimator_\n",
    "\n",
    "    return best_xgb_model, best_params\n",
    "\n",
    "best_xgb_model, best_params_xgb = train_xgboost(X_train, y_train)\n",
    "print(f\"XGBoost - Best Parameters: {best_params_xgb}\")\n",
    "\n",
    "print(\"XGBoost Model Performance on Test Set:\")\n",
    "get_accuracy_details(best_xgb_model, X_test, y_test)\n"
   ]
  },
  {
   "cell_type": "code",
   "execution_count": 10,
   "id": "5c5d28d6",
   "metadata": {
    "execution": {
     "iopub.execute_input": "2024-12-31T08:25:58.763267Z",
     "iopub.status.busy": "2024-12-31T08:25:58.762974Z",
     "iopub.status.idle": "2024-12-31T13:36:32.587088Z",
     "shell.execute_reply": "2024-12-31T13:36:32.585991Z"
    },
    "papermill": {
     "duration": 18633.83342,
     "end_time": "2024-12-31T13:36:32.592380",
     "exception": false,
     "start_time": "2024-12-31T08:25:58.758960",
     "status": "completed"
    },
    "tags": []
   },
   "outputs": [
    {
     "name": "stderr",
     "output_type": "stream",
     "text": [
      "/usr/local/lib/python3.10/dist-packages/sklearn/model_selection/_validation.py:378: FitFailedWarning: \n",
      "15 fits failed out of a total of 45.\n",
      "The score on these train-test partitions for these parameters will be set to nan.\n",
      "If these failures are not expected, you can try to debug them by setting error_score='raise'.\n",
      "\n",
      "Below are more details about the failures:\n",
      "--------------------------------------------------------------------------------\n",
      "15 fits failed with the following error:\n",
      "Traceback (most recent call last):\n",
      "  File \"/usr/local/lib/python3.10/dist-packages/sklearn/model_selection/_validation.py\", line 686, in _fit_and_score\n",
      "    estimator.fit(X_train, y_train, **fit_params)\n",
      "  File \"/usr/local/lib/python3.10/dist-packages/catboost/core.py\", line 5873, in fit\n",
      "    return self._fit(X, y, cat_features, text_features, embedding_features, None, graph, sample_weight, None, None, None, None, baseline,\n",
      "  File \"/usr/local/lib/python3.10/dist-packages/catboost/core.py\", line 2395, in _fit\n",
      "    train_params = self._prepare_train_params(\n",
      "  File \"/usr/local/lib/python3.10/dist-packages/catboost/core.py\", line 2321, in _prepare_train_params\n",
      "    _check_train_params(params)\n",
      "  File \"_catboost.pyx\", line 6583, in _catboost._check_train_params\n",
      "  File \"_catboost.pyx\", line 6605, in _catboost._check_train_params\n",
      "_catboost.CatBoostError: catboost/private/libs/options/oblivious_tree_options.cpp:128: Maximum tree depth is 16\n",
      "\n",
      "  warnings.warn(some_fits_failed_message, FitFailedWarning)\n",
      "/usr/local/lib/python3.10/dist-packages/sklearn/model_selection/_search.py:952: UserWarning: One or more of the test scores are non-finite: [-0.51856385 -0.51607073 -0.5157337  -0.51842059 -0.51649658 -0.51601868\n",
      "         nan         nan         nan]\n",
      "  warnings.warn(\n"
     ]
    },
    {
     "name": "stdout",
     "output_type": "stream",
     "text": [
      "CatBoost - Best Parameters: {'depth': 10, 'iterations': 1200, 'learning_rate': 0.1}\n",
      "Validation R² score: 0.5940338374626175\n",
      "Validation Mean Squared Error: 0.5182455971570775\n",
      "Validation Mean Absolute Error: 0.4997512862217887\n"
     ]
    }
   ],
   "source": [
    "from catboost import CatBoostRegressor\n",
    "\n",
    "def train_catboost(X_train, y_train):\n",
    "    param_grid = {\n",
    "        'iterations': [500, 800, 1200],\n",
    "        'learning_rate': [0.1],\n",
    "        'depth': [10, 15, 20]\n",
    "    }\n",
    "    cb_regressor = CatBoostRegressor(random_seed=29, verbose=0, task_type=\"GPU\", devices='0')\n",
    "    grid_search = GridSearchCV(cb_regressor, param_grid, cv=5, scoring='neg_mean_absolute_error')\n",
    "    grid_search.fit(X_train, y_train)\n",
    "    best_params = grid_search.best_params_\n",
    "    best_cb_model = grid_search.best_estimator_\n",
    "    \n",
    "    return best_cb_model, best_params\n",
    "\n",
    "best_cb_model, best_params_cb = train_catboost(X_train, y_train)\n",
    "print(f\"CatBoost - Best Parameters: {best_params_cb}\")\n",
    "get_accuracy_details(best_cb_model, X_test, y_test)"
   ]
  },
  {
   "cell_type": "code",
   "execution_count": 11,
   "id": "58935f7d",
   "metadata": {
    "execution": {
     "iopub.execute_input": "2024-12-31T13:36:32.600691Z",
     "iopub.status.busy": "2024-12-31T13:36:32.600442Z",
     "iopub.status.idle": "2024-12-31T13:36:35.741989Z",
     "shell.execute_reply": "2024-12-31T13:36:35.741194Z"
    },
    "papermill": {
     "duration": 3.147382,
     "end_time": "2024-12-31T13:36:35.743724",
     "exception": false,
     "start_time": "2024-12-31T13:36:32.596342",
     "status": "completed"
    },
    "tags": []
   },
   "outputs": [
    {
     "data": {
      "image/png": "[encoded data removed]",
      "text/plain": [
       "<Figure size 1200x600 with 1 Axes>"
      ]
     },
     "metadata": {},
     "output_type": "display_data"
    }
   ],
   "source": [
    "import matplotlib.pyplot as plt\n",
    "import numpy as np\n",
    "from sklearn.metrics import mean_squared_error, mean_absolute_error\n",
    "\n",
    "# Collect the performance metrics\n",
    "metrics = {}\n",
    "\n",
    "def collect_metrics(model, name, X_test, y_test):\n",
    "    y_pred = model.predict(X_test)\n",
    "    r2 = model.score(X_test, y_test)\n",
    "    mse = mean_squared_error(y_test, y_pred)\n",
    "    mae = mean_absolute_error(y_test, y_pred)\n",
    "    metrics[name] = {'R2': r2, 'MSE': mse, 'MAE': mae}\n",
    "\n",
    "collect_metrics(best_cb_model, 'CatBoost', X_test, y_test)\n",
    "collect_metrics(best_rf_model, 'Random Forest', X_test, y_test)\n",
    "collect_metrics(best_mlp_model, 'MLP', X_test, y_test)\n",
    "collect_metrics(best_xgb_model, 'XGBoost', X_test, y_test)\n",
    "\n",
    "# Visualize the metrics (Improved with color palette and log scale for MSE)\n",
    "metric_names = ['R2', 'MSE', 'MAE']\n",
    "model_names = list(metrics.keys())\n",
    "\n",
    "# --- Create the plot ---\n",
    "fig, ax = plt.subplots(figsize=(12, 6))\n",
    "\n",
    "# --- Bar width and positions ---\n",
    "bar_width = 0.2\n",
    "x = np.arange(len(metric_names))\n",
    "\n",
    "# --- Color Palette ---\n",
    "colors = plt.cm.Set2(np.linspace(0, 1, len(model_names)))  # Using a colormap\n",
    "\n",
    "# --- Plotting the bars for each model ---\n",
    "for i, model_name in enumerate(model_names):\n",
    "    metric_values = [metrics[model_name][metric] for metric in metric_names]\n",
    "    rects = ax.bar(x + i * bar_width, metric_values, bar_width, label=model_name, color=colors[i])\n",
    "    ax.bar_label(rects, padding=3, fmt='%.3f')\n",
    "\n",
    "# --- Customize the plot ---\n",
    "ax.set_xlabel('Metrics', fontweight='bold')\n",
    "ax.set_ylabel('Value', fontweight='bold')\n",
    "ax.set_title('Model Comparison - Performance Metrics', fontweight='bold', fontsize=14)\n",
    "ax.set_xticks(x + bar_width * (len(model_names) - 1) / 2)\n",
    "ax.set_xticklabels(metric_names)\n",
    "ax.legend()\n",
    "\n",
    "# --- Log Scale for MSE ---\n",
    "ax.set_yscale('log')\n",
    "\n",
    "# --- Adjust layout and display ---\n",
    "fig.tight_layout()\n",
    "plt.show()"
   ]
  },
  {
   "cell_type": "code",
   "execution_count": 12,
   "id": "35207b63",
   "metadata": {
    "execution": {
     "iopub.execute_input": "2024-12-31T13:36:35.752804Z",
     "iopub.status.busy": "2024-12-31T13:36:35.752575Z",
     "iopub.status.idle": "2024-12-31T13:36:36.269474Z",
     "shell.execute_reply": "2024-12-31T13:36:36.268726Z"
    },
    "papermill": {
     "duration": 0.522999,
     "end_time": "2024-12-31T13:36:36.270926",
     "exception": false,
     "start_time": "2024-12-31T13:36:35.747927",
     "status": "completed"
    },
    "tags": []
   },
   "outputs": [],
   "source": [
    "# --- Save the model (JSON format) ---\n",
    "best_xgb_model.save_model(\"xgboost_model.json\")\n",
    "best_cb_model.save_model(\"catboost_model.cbm\")"
   ]
  },
  {
   "cell_type": "code",
   "execution_count": null,
   "id": "34c6ba8d",
   "metadata": {
    "papermill": {
     "duration": 0.003718,
     "end_time": "2024-12-31T13:36:36.278920",
     "exception": false,
     "start_time": "2024-12-31T13:36:36.275202",
     "status": "completed"
    },
    "tags": []
   },
   "outputs": [],
   "source": []
  }
 ],
 "metadata": {
  "kaggle": {
   "accelerator": "gpu",
   "dataSources": [
    {
     "datasetId": 6399544,
     "sourceId": 10336928,
     "sourceType": "datasetVersion"
    }
   ],
   "dockerImageVersionId": 30823,
   "isGpuEnabled": true,
   "isInternetEnabled": true,
   "language": "python",
   "sourceType": "notebook"
  },
  "kernelspec": {
   "display_name": "Python 3",
   "language": "python",
   "name": "python3"
  },
  "language_info": {
   "codemirror_mode": {
    "name": "ipython",
    "version": 3
   },
   "file_extension": ".py",
   "mimetype": "text/x-python",
   "name": "python",
   "nbconvert_exporter": "python",
   "pygments_lexer": "ipython3",
   "version": "3.10.12"
  },
  "papermill": {
   "default_parameters": {},
   "duration": 20495.285562,
   "end_time": "2024-12-31T13:36:37.122362",
   "environment_variables": {},
   "exception": null,
   "input_path": "__notebook__.ipynb",
   "output_path": "__notebook__.ipynb",
   "parameters": {},
   "start_time": "2024-12-31T07:55:01.836800",
   "version": "2.6.0"
  }
 },
 "nbformat": 4,
 "nbformat_minor": 5
}
